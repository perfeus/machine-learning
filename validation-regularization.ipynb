{
 "cells": [
  {
   "cell_type": "code",
   "execution_count": 94,
   "metadata": {
    "executionInfo": {
     "elapsed": 665,
     "status": "ok",
     "timestamp": 1663479317961,
     "user": {
      "displayName": "Маргарита Бурова",
      "userId": "08611594987469395240"
     },
     "user_tz": -180
    },
    "id": "weGRn0KUF39B"
   },
   "outputs": [],
   "source": [
    "import numpy as np\n",
    "import pandas as pd\n",
    "import matplotlib.pyplot as plt\n",
    "\n",
    "\n",
    "%matplotlib inline"
   ]
  },
  {
   "cell_type": "markdown",
   "metadata": {
    "id": "EKy07IWWF39E"
   },
   "source": [
    "## 1. Cross Val Score"
   ]
  },
  {
   "cell_type": "code",
   "execution_count": 95,
   "metadata": {
    "colab": {
     "base_uri": "https://localhost:8080/",
     "height": 299
    },
    "executionInfo": {
     "elapsed": 1081,
     "status": "ok",
     "timestamp": 1663479320962,
     "user": {
      "displayName": "Маргарита Бурова",
      "userId": "08611594987469395240"
     },
     "user_tz": -180
    },
    "id": "eef6-GqBF39F",
    "outputId": "5a7a3d84-d9da-4456-ba8d-b02c7ab9e7d6"
   },
   "outputs": [
    {
     "data": {
      "text/html": [
       "<div>\n",
       "<style scoped>\n",
       "    .dataframe tbody tr th:only-of-type {\n",
       "        vertical-align: middle;\n",
       "    }\n",
       "\n",
       "    .dataframe tbody tr th {\n",
       "        vertical-align: top;\n",
       "    }\n",
       "\n",
       "    .dataframe thead th {\n",
       "        text-align: right;\n",
       "    }\n",
       "</style>\n",
       "<table border=\"1\" class=\"dataframe\">\n",
       "  <thead>\n",
       "    <tr style=\"text-align: right;\">\n",
       "      <th></th>\n",
       "      <th>SalePrice</th>\n",
       "      <th>LotArea</th>\n",
       "      <th>OverallQual</th>\n",
       "      <th>MasVnrArea</th>\n",
       "      <th>TotalBsmtSF</th>\n",
       "      <th>GrLivArea</th>\n",
       "      <th>FullBath</th>\n",
       "      <th>GarageCars</th>\n",
       "      <th>Fireplaces</th>\n",
       "      <th>WoodDeckSF</th>\n",
       "      <th>...</th>\n",
       "      <th>SaleCondition_Normal</th>\n",
       "      <th>SaleCondition_Partial</th>\n",
       "      <th>SaleCondition_other</th>\n",
       "      <th>GarageType_2Types</th>\n",
       "      <th>GarageType_Attchd</th>\n",
       "      <th>GarageType_Basment</th>\n",
       "      <th>GarageType_BuiltIn</th>\n",
       "      <th>GarageType_CarPort</th>\n",
       "      <th>GarageType_Detchd</th>\n",
       "      <th>GarageType_None</th>\n",
       "    </tr>\n",
       "  </thead>\n",
       "  <tbody>\n",
       "    <tr>\n",
       "      <th>0</th>\n",
       "      <td>208500</td>\n",
       "      <td>8450.0</td>\n",
       "      <td>7</td>\n",
       "      <td>196.0</td>\n",
       "      <td>856.0</td>\n",
       "      <td>1710.0</td>\n",
       "      <td>2</td>\n",
       "      <td>2</td>\n",
       "      <td>0</td>\n",
       "      <td>0.0</td>\n",
       "      <td>...</td>\n",
       "      <td>1.0</td>\n",
       "      <td>0.0</td>\n",
       "      <td>0.0</td>\n",
       "      <td>0.0</td>\n",
       "      <td>1.0</td>\n",
       "      <td>0.0</td>\n",
       "      <td>0.0</td>\n",
       "      <td>0.0</td>\n",
       "      <td>0.0</td>\n",
       "      <td>0.0</td>\n",
       "    </tr>\n",
       "    <tr>\n",
       "      <th>1</th>\n",
       "      <td>181500</td>\n",
       "      <td>9600.0</td>\n",
       "      <td>6</td>\n",
       "      <td>0.0</td>\n",
       "      <td>1262.0</td>\n",
       "      <td>1262.0</td>\n",
       "      <td>2</td>\n",
       "      <td>2</td>\n",
       "      <td>1</td>\n",
       "      <td>298.0</td>\n",
       "      <td>...</td>\n",
       "      <td>1.0</td>\n",
       "      <td>0.0</td>\n",
       "      <td>0.0</td>\n",
       "      <td>0.0</td>\n",
       "      <td>1.0</td>\n",
       "      <td>0.0</td>\n",
       "      <td>0.0</td>\n",
       "      <td>0.0</td>\n",
       "      <td>0.0</td>\n",
       "      <td>0.0</td>\n",
       "    </tr>\n",
       "    <tr>\n",
       "      <th>2</th>\n",
       "      <td>223500</td>\n",
       "      <td>11250.0</td>\n",
       "      <td>7</td>\n",
       "      <td>162.0</td>\n",
       "      <td>920.0</td>\n",
       "      <td>1786.0</td>\n",
       "      <td>2</td>\n",
       "      <td>2</td>\n",
       "      <td>1</td>\n",
       "      <td>0.0</td>\n",
       "      <td>...</td>\n",
       "      <td>1.0</td>\n",
       "      <td>0.0</td>\n",
       "      <td>0.0</td>\n",
       "      <td>0.0</td>\n",
       "      <td>1.0</td>\n",
       "      <td>0.0</td>\n",
       "      <td>0.0</td>\n",
       "      <td>0.0</td>\n",
       "      <td>0.0</td>\n",
       "      <td>0.0</td>\n",
       "    </tr>\n",
       "    <tr>\n",
       "      <th>3</th>\n",
       "      <td>140000</td>\n",
       "      <td>9550.0</td>\n",
       "      <td>7</td>\n",
       "      <td>0.0</td>\n",
       "      <td>756.0</td>\n",
       "      <td>1717.0</td>\n",
       "      <td>1</td>\n",
       "      <td>3</td>\n",
       "      <td>1</td>\n",
       "      <td>0.0</td>\n",
       "      <td>...</td>\n",
       "      <td>0.0</td>\n",
       "      <td>0.0</td>\n",
       "      <td>0.0</td>\n",
       "      <td>0.0</td>\n",
       "      <td>0.0</td>\n",
       "      <td>0.0</td>\n",
       "      <td>0.0</td>\n",
       "      <td>0.0</td>\n",
       "      <td>1.0</td>\n",
       "      <td>0.0</td>\n",
       "    </tr>\n",
       "    <tr>\n",
       "      <th>4</th>\n",
       "      <td>250000</td>\n",
       "      <td>14260.0</td>\n",
       "      <td>8</td>\n",
       "      <td>350.0</td>\n",
       "      <td>1145.0</td>\n",
       "      <td>2198.0</td>\n",
       "      <td>2</td>\n",
       "      <td>3</td>\n",
       "      <td>1</td>\n",
       "      <td>192.0</td>\n",
       "      <td>...</td>\n",
       "      <td>1.0</td>\n",
       "      <td>0.0</td>\n",
       "      <td>0.0</td>\n",
       "      <td>0.0</td>\n",
       "      <td>1.0</td>\n",
       "      <td>0.0</td>\n",
       "      <td>0.0</td>\n",
       "      <td>0.0</td>\n",
       "      <td>0.0</td>\n",
       "      <td>0.0</td>\n",
       "    </tr>\n",
       "  </tbody>\n",
       "</table>\n",
       "<p>5 rows × 26 columns</p>\n",
       "</div>"
      ],
      "text/plain": [
       "   SalePrice  LotArea  OverallQual  MasVnrArea  TotalBsmtSF  GrLivArea  \\\n",
       "0     208500   8450.0            7       196.0        856.0     1710.0   \n",
       "1     181500   9600.0            6         0.0       1262.0     1262.0   \n",
       "2     223500  11250.0            7       162.0        920.0     1786.0   \n",
       "3     140000   9550.0            7         0.0        756.0     1717.0   \n",
       "4     250000  14260.0            8       350.0       1145.0     2198.0   \n",
       "\n",
       "   FullBath  GarageCars  Fireplaces  WoodDeckSF  ...  SaleCondition_Normal  \\\n",
       "0         2           2           0         0.0  ...                   1.0   \n",
       "1         2           2           1       298.0  ...                   1.0   \n",
       "2         2           2           1         0.0  ...                   1.0   \n",
       "3         1           3           1         0.0  ...                   0.0   \n",
       "4         2           3           1       192.0  ...                   1.0   \n",
       "\n",
       "   SaleCondition_Partial  SaleCondition_other  GarageType_2Types  \\\n",
       "0                    0.0                  0.0                0.0   \n",
       "1                    0.0                  0.0                0.0   \n",
       "2                    0.0                  0.0                0.0   \n",
       "3                    0.0                  0.0                0.0   \n",
       "4                    0.0                  0.0                0.0   \n",
       "\n",
       "   GarageType_Attchd  GarageType_Basment  GarageType_BuiltIn  \\\n",
       "0                1.0                 0.0                 0.0   \n",
       "1                1.0                 0.0                 0.0   \n",
       "2                1.0                 0.0                 0.0   \n",
       "3                0.0                 0.0                 0.0   \n",
       "4                1.0                 0.0                 0.0   \n",
       "\n",
       "   GarageType_CarPort  GarageType_Detchd  GarageType_None  \n",
       "0                 0.0                0.0              0.0  \n",
       "1                 0.0                0.0              0.0  \n",
       "2                 0.0                0.0              0.0  \n",
       "3                 0.0                1.0              0.0  \n",
       "4                 0.0                0.0              0.0  \n",
       "\n",
       "[5 rows x 26 columns]"
      ]
     },
     "execution_count": 95,
     "metadata": {},
     "output_type": "execute_result"
    }
   ],
   "source": [
    "data = pd.read_csv('https://github.com/mbburova/MDS/raw/main/house_prices_prep.csv')\n",
    "data.head()"
   ]
  },
  {
   "cell_type": "code",
   "execution_count": 96,
   "metadata": {
    "id": "RD06zw-OF39G"
   },
   "outputs": [],
   "source": [
    "from sklearn.model_selection import train_test_split\n",
    "\n",
    "tr, te = train_test_split(data, test_size=0.2, random_state=42)\n",
    "\n",
    "y_train = tr.SalePrice\n",
    "y_test = te.SalePrice\n",
    "X_train = tr.drop(['SalePrice'], axis=1)\n",
    "X_test = te.drop(['SalePrice'], axis=1)"
   ]
  },
  {
   "cell_type": "markdown",
   "metadata": {
    "id": "t4S0FAKwF39G"
   },
   "source": [
    "All the preprocessing was already done, so the only thing we need to do is scale numerical features. For example, we can use `StandardScaler` for that."
   ]
  },
  {
   "cell_type": "code",
   "execution_count": 97,
   "metadata": {
    "id": "aRnwsvqcF39H"
   },
   "outputs": [],
   "source": [
    "from sklearn.preprocessing import StandardScaler\n",
    "from sklearn.compose import ColumnTransformer\n",
    "\n",
    "num_cols = ['LotArea', 'MasVnrArea', 'TotalBsmtSF', 'GrLivArea', 'WoodDeckSF', 'OpenPorchSF', 'Age', 'RemodAge']\n",
    "\n",
    "# transform\n",
    "column_transforms = ColumnTransformer([\n",
    "    ('scaling', StandardScaler(), num_cols),\n",
    "    ], remainder='passthrough')"
   ]
  },
  {
   "cell_type": "markdown",
   "metadata": {
    "id": "NWWfJRvSF39H"
   },
   "source": [
    "Total Pipeline:\n",
    " - Column Tranformer\n",
    " - Linear Regression"
   ]
  },
  {
   "cell_type": "code",
   "execution_count": 98,
   "metadata": {
    "id": "_BPvwpJEF39I"
   },
   "outputs": [],
   "source": [
    "from sklearn.linear_model import LinearRegression\n",
    "from sklearn.pipeline import make_pipeline\n",
    "\n",
    "# define pipeline\n",
    "pipe = make_pipeline(column_transforms,\n",
    "                    LinearRegression())"
   ]
  },
  {
   "cell_type": "markdown",
   "metadata": {
    "id": "S3620QKZF39I"
   },
   "source": [
    "But what if I want to try different preprocessing? E.g we can use `MinMaxScaler` for numerical features instead of `StandardScaler`?\n"
   ]
  },
  {
   "cell_type": "code",
   "execution_count": 99,
   "metadata": {
    "id": "sqQLXzSYF39J"
   },
   "outputs": [],
   "source": [
    "from sklearn.preprocessing import MinMaxScaler\n",
    "\n",
    "#option 2\n",
    "column_transforms_2 = ColumnTransformer([\n",
    "    ('scaling', MinMaxScaler(), num_cols),\n",
    "    ], remainder='passthrough')\n",
    "\n",
    "pipe_2 = make_pipeline(column_transforms_2,\n",
    "                      LinearRegression())"
   ]
  },
  {
   "cell_type": "markdown",
   "metadata": {
    "id": "mjTPStfLF39J"
   },
   "source": [
    "\n",
    "We would like to compare Linear Regression these two types of preprocessing **before** evaluating model on the test set. Cross-validation is very useful in this case. "
   ]
  },
  {
   "cell_type": "markdown",
   "metadata": {
    "id": "n5vUkPfkF39J"
   },
   "source": [
    "![im](https://scikit-learn.org/stable/_images/grid_search_cross_validation.png)"
   ]
  },
  {
   "cell_type": "markdown",
   "metadata": {
    "id": "qmmvfW2QF39K"
   },
   "source": [
    "`sklearn.model_selection` module has a a function `cross_val_score`\n",
    "\n",
    "**Parameters**:\n",
    " - estimator (model or the whole pipeline)\n",
    " - training data\n",
    " - number of folds or custom CV object\n",
    " - scorer "
   ]
  },
  {
   "cell_type": "code",
   "execution_count": 100,
   "metadata": {
    "id": "nxKrtNg8F39K",
    "outputId": "e26089c2-3934-4e42-8f87-2caf5b68d253"
   },
   "outputs": [
    {
     "data": {
      "text/plain": [
       "['accuracy',\n",
       " 'adjusted_mutual_info_score',\n",
       " 'adjusted_rand_score',\n",
       " 'average_precision',\n",
       " 'balanced_accuracy',\n",
       " 'completeness_score',\n",
       " 'explained_variance',\n",
       " 'f1',\n",
       " 'f1_macro',\n",
       " 'f1_micro',\n",
       " 'f1_samples',\n",
       " 'f1_weighted',\n",
       " 'fowlkes_mallows_score',\n",
       " 'homogeneity_score',\n",
       " 'jaccard',\n",
       " 'jaccard_macro',\n",
       " 'jaccard_micro',\n",
       " 'jaccard_samples',\n",
       " 'jaccard_weighted',\n",
       " 'max_error',\n",
       " 'mutual_info_score',\n",
       " 'neg_brier_score',\n",
       " 'neg_log_loss',\n",
       " 'neg_mean_absolute_error',\n",
       " 'neg_mean_absolute_percentage_error',\n",
       " 'neg_mean_gamma_deviance',\n",
       " 'neg_mean_poisson_deviance',\n",
       " 'neg_mean_squared_error',\n",
       " 'neg_mean_squared_log_error',\n",
       " 'neg_median_absolute_error',\n",
       " 'neg_root_mean_squared_error',\n",
       " 'normalized_mutual_info_score',\n",
       " 'precision',\n",
       " 'precision_macro',\n",
       " 'precision_micro',\n",
       " 'precision_samples',\n",
       " 'precision_weighted',\n",
       " 'r2',\n",
       " 'rand_score',\n",
       " 'recall',\n",
       " 'recall_macro',\n",
       " 'recall_micro',\n",
       " 'recall_samples',\n",
       " 'recall_weighted',\n",
       " 'roc_auc',\n",
       " 'roc_auc_ovo',\n",
       " 'roc_auc_ovo_weighted',\n",
       " 'roc_auc_ovr',\n",
       " 'roc_auc_ovr_weighted',\n",
       " 'top_k_accuracy',\n",
       " 'v_measure_score']"
      ]
     },
     "execution_count": 100,
     "metadata": {},
     "output_type": "execute_result"
    }
   ],
   "source": [
    "# possible scorers\n",
    "import sklearn.metrics\n",
    "sorted(sklearn.metrics.SCORERS.keys())"
   ]
  },
  {
   "cell_type": "markdown",
   "metadata": {
    "id": "ZijIsW40F39K"
   },
   "source": [
    "We will use K-Fold cross validation. But there are other, more sophisticated options available. You can read about them [here](https://scikit-learn.org/stable/modules/cross_validation.html#cross-validation-iterators)"
   ]
  },
  {
   "cell_type": "markdown",
   "metadata": {
    "id": "jk04tndEF39K"
   },
   "source": [
    "CV-score of the first pipeline:"
   ]
  },
  {
   "cell_type": "code",
   "execution_count": 101,
   "metadata": {
    "id": "fVm0aiHCF39K"
   },
   "outputs": [
    {
     "data": {
      "text/plain": [
       "array([-7.45549592e+08, -1.85002686e+09, -8.77324619e+08, -2.08352484e+09,\n",
       "       -3.73386123e+09, -1.50531901e+09, -7.92459716e+08, -7.57815939e+08,\n",
       "       -6.11313256e+08, -7.93048319e+08])"
      ]
     },
     "execution_count": 101,
     "metadata": {},
     "output_type": "execute_result"
    }
   ],
   "source": [
    "from sklearn.model_selection import cross_val_score\n",
    "\n",
    "cross_val_score(pipe, X_train, y_train, cv=10, scoring='neg_mean_squared_error')"
   ]
  },
  {
   "cell_type": "code",
   "execution_count": 103,
   "metadata": {},
   "outputs": [
    {
     "data": {
      "text/plain": [
       "35405.07542373271"
      ]
     },
     "execution_count": 103,
     "metadata": {},
     "output_type": "execute_result"
    }
   ],
   "source": [
    "rmse = np.mean((-cross_val_score(pipe, X_train, y_train, cv=10, scoring='neg_mean_squared_error')) ** .5)\n",
    "rmse"
   ]
  },
  {
   "cell_type": "markdown",
   "metadata": {
    "id": "sHxzjfumF39L"
   },
   "source": [
    "CV-score of the second pipeline:"
   ]
  },
  {
   "cell_type": "code",
   "execution_count": 104,
   "metadata": {
    "id": "LGaam91uF39L"
   },
   "outputs": [
    {
     "data": {
      "text/plain": [
       "35405.075423732706"
      ]
     },
     "execution_count": 104,
     "metadata": {},
     "output_type": "execute_result"
    }
   ],
   "source": [
    "rmse = np.mean((-cross_val_score(pipe_2, X_train, y_train, cv=10, scoring='neg_mean_squared_error')) ** .5)\n",
    "rmse"
   ]
  },
  {
   "cell_type": "markdown",
   "metadata": {
    "id": "pB7gsfz9F39L"
   },
   "source": [
    "---\n",
    "\n",
    "## 2. Linear Regression with Regularization\n",
    "\n",
    "**Lasso**\n",
    "$$\n",
    "\\min_{w} MSE + \\lambda \\|w\\|_1\n",
    "$$\n",
    "\n",
    "\n",
    "**Ridge**\n",
    "$$\n",
    "\\min_{w} MSE + \\lambda \\|w\\|_2^2\n",
    "$$\n",
    "\n",
    "Let us use cross-validation to compare Lasso and Ridge regression."
   ]
  },
  {
   "cell_type": "code",
   "execution_count": 105,
   "metadata": {
    "id": "-k71Z1OyF39L"
   },
   "outputs": [],
   "source": [
    "from sklearn.pipeline import Pipeline\n",
    "from sklearn.linear_model import Lasso, Ridge\n",
    "\n",
    "# define pipelines\n",
    "pipe_lasso = make_pipeline(column_transforms, Lasso(max_iter=2000))\n",
    "# pipe_lasso = Pipeline([('transform', column_transforms), ('lasso', Lasso(max_iter=2000))])\n",
    "\n",
    "pipe_ridge = make_pipeline(column_transforms, Ridge())\n",
    "# pipe_ridge = Pipeline(['transform', column_transforms), ('lasso', Ridge())])"
   ]
  },
  {
   "cell_type": "code",
   "execution_count": 106,
   "metadata": {
    "id": "uXVPPNSEF39L"
   },
   "outputs": [
    {
     "data": {
      "text/plain": [
       "35404.292939388324"
      ]
     },
     "execution_count": 106,
     "metadata": {},
     "output_type": "execute_result"
    }
   ],
   "source": [
    "# lasso cv score\n",
    "rmse = np.mean((-cross_val_score(pipe_lasso, X_train, y_train, cv=10, scoring='neg_mean_squared_error')) ** .5)\n",
    "rmse"
   ]
  },
  {
   "cell_type": "code",
   "execution_count": 107,
   "metadata": {
    "id": "i4qTzvYqF39L"
   },
   "outputs": [
    {
     "data": {
      "text/plain": [
       "35390.22070413702"
      ]
     },
     "execution_count": 107,
     "metadata": {},
     "output_type": "execute_result"
    }
   ],
   "source": [
    "# ridge cv score\n",
    "rmse = np.mean((-cross_val_score(pipe_ridge, X_train, y_train, cv=10, scoring='neg_mean_squared_error')) ** .5)\n",
    "rmse"
   ]
  },
  {
   "cell_type": "code",
   "execution_count": 108,
   "metadata": {
    "id": "r0snuiysF39M"
   },
   "outputs": [
    {
     "data": {
      "text/plain": [
       "[('columntransformer',\n",
       "  ColumnTransformer(remainder='passthrough',\n",
       "                    transformers=[('scaling', StandardScaler(),\n",
       "                                   ['LotArea', 'MasVnrArea', 'TotalBsmtSF',\n",
       "                                    'GrLivArea', 'WoodDeckSF', 'OpenPorchSF',\n",
       "                                    'Age', 'RemodAge'])])),\n",
       " ('lasso', Lasso(max_iter=2000))]"
      ]
     },
     "execution_count": 108,
     "metadata": {},
     "output_type": "execute_result"
    }
   ],
   "source": [
    "# take a look at our pipeline\n",
    "pipe_lasso.steps"
   ]
  },
  {
   "cell_type": "code",
   "execution_count": 109,
   "metadata": {},
   "outputs": [
    {
     "data": {
      "text/plain": [
       "[('columntransformer',\n",
       "  ColumnTransformer(remainder='passthrough',\n",
       "                    transformers=[('scaling', StandardScaler(),\n",
       "                                   ['LotArea', 'MasVnrArea', 'TotalBsmtSF',\n",
       "                                    'GrLivArea', 'WoodDeckSF', 'OpenPorchSF',\n",
       "                                    'Age', 'RemodAge'])])),\n",
       " ('ridge', Ridge())]"
      ]
     },
     "execution_count": 109,
     "metadata": {},
     "output_type": "execute_result"
    }
   ],
   "source": [
    "pipe_ridge.steps"
   ]
  },
  {
   "cell_type": "markdown",
   "metadata": {
    "id": "kw1VKrFdF39M"
   },
   "source": [
    "But now we also want to try different values of regularization coefficient. Creating new pipeline for each option would be too much, so we need a better solution. `GridSearchCV` will help us."
   ]
  },
  {
   "cell_type": "code",
   "execution_count": 110,
   "metadata": {
    "id": "hs8q9UriF39M"
   },
   "outputs": [],
   "source": [
    "from sklearn.model_selection import GridSearchCV"
   ]
  },
  {
   "cell_type": "code",
   "execution_count": 112,
   "metadata": {
    "id": "cCFfik1vF39M"
   },
   "outputs": [],
   "source": [
    "# define parameter grid \n",
    "param_grid = {\n",
    "    'ridge__alpha':[1e-4, 1e-2, 1e-1, 1, 10]\n",
    "}\n",
    "\n",
    "\n",
    "# define `GridSearchCV` object\n",
    "pipe_cv = GridSearchCV(pipe_ridge, param_grid=param_grid, cv=10, scoring='neg_mean_squared_error')"
   ]
  },
  {
   "cell_type": "code",
   "execution_count": 113,
   "metadata": {
    "id": "A1OPh2gJF39M"
   },
   "outputs": [
    {
     "data": {
      "text/plain": [
       "GridSearchCV(cv=10,\n",
       "             estimator=Pipeline(steps=[('columntransformer',\n",
       "                                        ColumnTransformer(remainder='passthrough',\n",
       "                                                          transformers=[('scaling',\n",
       "                                                                         StandardScaler(),\n",
       "                                                                         ['LotArea',\n",
       "                                                                          'MasVnrArea',\n",
       "                                                                          'TotalBsmtSF',\n",
       "                                                                          'GrLivArea',\n",
       "                                                                          'WoodDeckSF',\n",
       "                                                                          'OpenPorchSF',\n",
       "                                                                          'Age',\n",
       "                                                                          'RemodAge'])])),\n",
       "                                       ('ridge', Ridge())]),\n",
       "             param_grid={'ridge__alpha': [0.0001, 0.01, 0.1, 1, 10]},\n",
       "             scoring='neg_mean_squared_error')"
      ]
     },
     "execution_count": 113,
     "metadata": {},
     "output_type": "execute_result"
    }
   ],
   "source": [
    "# fit `pipe_cv`\n",
    "pipe_cv.fit(X_train, y_train)"
   ]
  },
  {
   "cell_type": "code",
   "execution_count": 114,
   "metadata": {},
   "outputs": [
    {
     "data": {
      "text/plain": [
       "Pipeline(steps=[('columntransformer',\n",
       "                 ColumnTransformer(remainder='passthrough',\n",
       "                                   transformers=[('scaling', StandardScaler(),\n",
       "                                                  ['LotArea', 'MasVnrArea',\n",
       "                                                   'TotalBsmtSF', 'GrLivArea',\n",
       "                                                   'WoodDeckSF', 'OpenPorchSF',\n",
       "                                                   'Age', 'RemodAge'])])),\n",
       "                ('ridge', Ridge(alpha=10))])"
      ]
     },
     "execution_count": 114,
     "metadata": {},
     "output_type": "execute_result"
    }
   ],
   "source": [
    "# get best estimator\n",
    "pipe_cv.best_estimator_"
   ]
  },
  {
   "cell_type": "markdown",
   "metadata": {
    "id": "savj7ACAF39M"
   },
   "source": [
    "### Compare models with GridSearchCV\n",
    "By far we've used cross-validation to:\n",
    "- Compare two different models\n",
    "- Select best set of hyperparameters within one model\n",
    "\n",
    "But what if we want to do both? We can use `GridSearchCV` to compare different models with different sets of hyperparameters and select the best one. \n",
    "\n",
    "To do that, we need to add different models into the parameter grid. "
   ]
  },
  {
   "cell_type": "code",
   "execution_count": 115,
   "metadata": {
    "id": "Ew7ZLNjNF39M"
   },
   "outputs": [],
   "source": [
    "from sklearn.pipeline import Pipeline\n",
    "\n",
    "# define pipe \n",
    "pipe = Pipeline([\n",
    "    ('preprocess', column_transforms),\n",
    "    ('reg', Ridge())\n",
    "])\n",
    "\n",
    "# define param grid\n",
    "param_grid = {\n",
    "    'reg': [Ridge(max_iter=1000000), Lasso(max_iter=1000000)],\n",
    "    'reg__alpha': [1e-2, 1e-1, 1, 10]\n",
    "}\n",
    "\n",
    "# define grid search object\n",
    "pipe_cv = GridSearchCV(pipe, param_grid=param_grid, cv=10, scoring='neg_mean_squared_error')"
   ]
  },
  {
   "cell_type": "code",
   "execution_count": 116,
   "metadata": {
    "id": "zSdwz9YYF39N"
   },
   "outputs": [
    {
     "data": {
      "text/plain": [
       "GridSearchCV(cv=10,\n",
       "             estimator=Pipeline(steps=[('preprocess',\n",
       "                                        ColumnTransformer(remainder='passthrough',\n",
       "                                                          transformers=[('scaling',\n",
       "                                                                         StandardScaler(),\n",
       "                                                                         ['LotArea',\n",
       "                                                                          'MasVnrArea',\n",
       "                                                                          'TotalBsmtSF',\n",
       "                                                                          'GrLivArea',\n",
       "                                                                          'WoodDeckSF',\n",
       "                                                                          'OpenPorchSF',\n",
       "                                                                          'Age',\n",
       "                                                                          'RemodAge'])])),\n",
       "                                       ('reg', Ridge())]),\n",
       "             param_grid={'reg': [Ridge(alpha=10, max_iter=1000000),\n",
       "                                 Lasso(max_iter=1000000)],\n",
       "                         'reg__alpha': [0.01, 0.1, 1, 10]},\n",
       "             scoring='neg_mean_squared_error')"
      ]
     },
     "execution_count": 116,
     "metadata": {},
     "output_type": "execute_result"
    }
   ],
   "source": [
    "# fit\n",
    "pipe_cv.fit(X_train, y_train)"
   ]
  },
  {
   "cell_type": "code",
   "execution_count": 117,
   "metadata": {
    "id": "7Q71Ej6OF39N"
   },
   "outputs": [
    {
     "data": {
      "text/plain": [
       "Pipeline(steps=[('preprocess',\n",
       "                 ColumnTransformer(remainder='passthrough',\n",
       "                                   transformers=[('scaling', StandardScaler(),\n",
       "                                                  ['LotArea', 'MasVnrArea',\n",
       "                                                   'TotalBsmtSF', 'GrLivArea',\n",
       "                                                   'WoodDeckSF', 'OpenPorchSF',\n",
       "                                                   'Age', 'RemodAge'])])),\n",
       "                ('reg', Ridge(alpha=10, max_iter=1000000))])"
      ]
     },
     "execution_count": 117,
     "metadata": {},
     "output_type": "execute_result"
    }
   ],
   "source": [
    "# print the score of the best model\n",
    "pipe_cv.best_estimator_"
   ]
  },
  {
   "cell_type": "markdown",
   "metadata": {
    "id": "3RPfvOTnF39N"
   },
   "source": [
    "Finally, what if we also want to compare the Linear Regression model with Ridge and Lasso? \n",
    "\n",
    "We cannot add it to the list of models in the parameter grid above, because it does not have `alpha` parameter. \n",
    "Turns out `GridSearchCV` can deal with this situation as well. We can create **list of dictionaries** as a param grid. "
   ]
  },
  {
   "cell_type": "code",
   "execution_count": 118,
   "metadata": {
    "id": "FoaJ6fj5F39N"
   },
   "outputs": [],
   "source": [
    "# define pipe \n",
    "pipe = Pipeline([\n",
    "    ('preprocess', column_transforms),\n",
    "    ('reg', Ridge())\n",
    "])\n",
    "\n",
    "# define param grid\n",
    "param_grid = [\n",
    "    # parameter grid for lasso and ridge (model and regularization coefficient)\n",
    "    {\n",
    "        'reg': [Ridge(max_iter=1000000), Lasso(max_iter=1000000)],\n",
    "        'reg__alpha': [1e-2, 1e-1, 1, 10]\n",
    "    }, \n",
    "    # parameter grid for linear regression (only model)\n",
    "    {\n",
    "        'reg': [LinearRegression()]\n",
    "    }\n",
    "]\n",
    "\n",
    "# define grid search object\n",
    "pipe_cv = GridSearchCV(pipe, param_grid=param_grid, cv=10, scoring='neg_mean_squared_error')"
   ]
  },
  {
   "cell_type": "code",
   "execution_count": 119,
   "metadata": {
    "id": "jAeDAKFuF39N"
   },
   "outputs": [
    {
     "data": {
      "text/plain": [
       "GridSearchCV(cv=10,\n",
       "             estimator=Pipeline(steps=[('preprocess',\n",
       "                                        ColumnTransformer(remainder='passthrough',\n",
       "                                                          transformers=[('scaling',\n",
       "                                                                         StandardScaler(),\n",
       "                                                                         ['LotArea',\n",
       "                                                                          'MasVnrArea',\n",
       "                                                                          'TotalBsmtSF',\n",
       "                                                                          'GrLivArea',\n",
       "                                                                          'WoodDeckSF',\n",
       "                                                                          'OpenPorchSF',\n",
       "                                                                          'Age',\n",
       "                                                                          'RemodAge'])])),\n",
       "                                       ('reg', Ridge())]),\n",
       "             param_grid=[{'reg': [Ridge(alpha=10, max_iter=1000000),\n",
       "                                  Lasso(max_iter=1000000)],\n",
       "                          'reg__alpha': [0.01, 0.1, 1, 10]},\n",
       "                         {'reg': [LinearRegression()]}],\n",
       "             scoring='neg_mean_squared_error')"
      ]
     },
     "execution_count": 119,
     "metadata": {},
     "output_type": "execute_result"
    }
   ],
   "source": [
    "# fit and print best estimator\n",
    "pipe_cv.fit(X_train, y_train)"
   ]
  },
  {
   "cell_type": "markdown",
   "metadata": {
    "id": "WMWC3sG9F39N"
   },
   "source": [
    "### Train best model on the whole train and evaluate on test\n",
    "\n",
    "Now we can use best estimator found by Grid Search, to train on the whole training dataset and evaluate it on the test dataset. "
   ]
  },
  {
   "cell_type": "code",
   "execution_count": 120,
   "metadata": {
    "id": "iWErGEQpF39N"
   },
   "outputs": [],
   "source": [
    "# get the best model from `pipe_cv`\n",
    "best_m = pipe_cv.best_estimator_\n",
    "\n",
    "# fit on the train dataset\n",
    "best_m.fit(X_train, y_train)\n",
    "\n",
    "# calculate predictions on test\n",
    "predict = best_m.predict(X_test)"
   ]
  },
  {
   "cell_type": "code",
   "execution_count": 121,
   "metadata": {
    "id": "NqsYziiDF39N"
   },
   "outputs": [],
   "source": [
    "# calculate root mean squared error on the test set\n",
    "from sklearn.metrics import mean_squared_error"
   ]
  },
  {
   "cell_type": "code",
   "execution_count": 122,
   "metadata": {},
   "outputs": [
    {
     "data": {
      "text/plain": [
       "36459.483295899"
      ]
     },
     "execution_count": 122,
     "metadata": {},
     "output_type": "execute_result"
    }
   ],
   "source": [
    "mean_squared_error(y_test, predict) ** .5"
   ]
  }
 ],
 "metadata": {
  "colab": {
   "provenance": []
  },
  "kernelspec": {
   "display_name": "Python 3",
   "language": "python",
   "name": "python3"
  },
  "language_info": {
   "codemirror_mode": {
    "name": "ipython",
    "version": 3
   },
   "file_extension": ".py",
   "mimetype": "text/x-python",
   "name": "python",
   "nbconvert_exporter": "python",
   "pygments_lexer": "ipython3",
   "version": "3.8.8"
  }
 },
 "nbformat": 4,
 "nbformat_minor": 1
}
