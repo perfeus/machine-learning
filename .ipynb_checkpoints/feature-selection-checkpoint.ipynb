{
 "cells": [
  {
   "cell_type": "code",
   "execution_count": 1,
   "id": "da7f22f1",
   "metadata": {},
   "outputs": [],
   "source": [
    "import numpy as np\n",
    "import pandas as pd\n",
    "import matplotlib.pyplot as plt\n",
    "import os\n",
    "\n",
    "import warnings\n",
    "warnings.filterwarnings(\"ignore\")\n",
    "\n",
    "pd.set_option('display.max_columns', 100) # set to larger value to see all the columns of pd.DF"
   ]
  },
  {
   "cell_type": "markdown",
   "id": "e8686d7e",
   "metadata": {},
   "source": [
    "\n",
    "In this notebook we'll be practicing with feature selection and hyperparameters tuning. \n",
    "\n",
    "\n",
    "\n",
    "# Table of Contents:\n",
    "* [Part 1.](#part1)  Feature selection\n",
    "     - [Step 1](#task1)\n",
    "     - [Step 2](#task2)\n",
    "     - [Step 3](#task3)\n",
    "     - [Step 4](#task4)\n",
    "     - [Step 5](#task5)\n",
    "     - [Step 6](#task6)\n",
    "     - [Step 7](#task7)\n",
    "   \n",
    "* [Part 2](#part2). Hyperparameters Tuning\n",
    "    - [Step 1](#task2_1)\n",
    "    - [Step 2](#task2_2)\n",
    "\n",
    "\n",
    "\n",
    "## Part 1. Feature selection \n",
    "---"
   ]
  },
  {
   "cell_type": "markdown",
   "id": "b9ae2637",
   "metadata": {},
   "source": [
    "We will work with a Mercedes-Benz Greener Manufacturing dataset and try different feature engineering, feature selection and dimensionality reduction techniques to predict the time Mercedes-Benz cars spend on the test bench.\n",
    "\n",
    "First, let's load the data and take a look at the dataset. Target variable to predict is y, the time for testing the car in seconds. We will exclude it from the feature set, as well as a column with unique car id, and split the dataset into training and validation samples."
   ]
  },
  {
   "cell_type": "code",
   "execution_count": 2,
   "id": "055469ea",
   "metadata": {},
   "outputs": [
    {
     "data": {
      "text/html": [
       "<div>\n",
       "<style scoped>\n",
       "    .dataframe tbody tr th:only-of-type {\n",
       "        vertical-align: middle;\n",
       "    }\n",
       "\n",
       "    .dataframe tbody tr th {\n",
       "        vertical-align: top;\n",
       "    }\n",
       "\n",
       "    .dataframe thead th {\n",
       "        text-align: right;\n",
       "    }\n",
       "</style>\n",
       "<table border=\"1\" class=\"dataframe\">\n",
       "  <thead>\n",
       "    <tr style=\"text-align: right;\">\n",
       "      <th></th>\n",
       "      <th>ID</th>\n",
       "      <th>y</th>\n",
       "      <th>X0</th>\n",
       "      <th>X1</th>\n",
       "      <th>X2</th>\n",
       "      <th>X3</th>\n",
       "      <th>X4</th>\n",
       "      <th>X5</th>\n",
       "      <th>X6</th>\n",
       "      <th>X8</th>\n",
       "      <th>X10</th>\n",
       "      <th>X11</th>\n",
       "      <th>X12</th>\n",
       "      <th>X13</th>\n",
       "      <th>X14</th>\n",
       "      <th>X15</th>\n",
       "      <th>X16</th>\n",
       "      <th>X17</th>\n",
       "      <th>X18</th>\n",
       "      <th>X19</th>\n",
       "      <th>X20</th>\n",
       "      <th>X21</th>\n",
       "      <th>X22</th>\n",
       "      <th>X23</th>\n",
       "      <th>X24</th>\n",
       "      <th>X26</th>\n",
       "      <th>X27</th>\n",
       "      <th>X28</th>\n",
       "      <th>X29</th>\n",
       "      <th>X30</th>\n",
       "      <th>X31</th>\n",
       "      <th>X32</th>\n",
       "      <th>X33</th>\n",
       "      <th>X34</th>\n",
       "      <th>X35</th>\n",
       "      <th>X36</th>\n",
       "      <th>X37</th>\n",
       "      <th>X38</th>\n",
       "      <th>X39</th>\n",
       "      <th>X40</th>\n",
       "      <th>X41</th>\n",
       "      <th>X42</th>\n",
       "      <th>X43</th>\n",
       "      <th>X44</th>\n",
       "      <th>X45</th>\n",
       "      <th>X46</th>\n",
       "      <th>X47</th>\n",
       "      <th>X48</th>\n",
       "      <th>X49</th>\n",
       "      <th>X50</th>\n",
       "      <th>...</th>\n",
       "      <th>X335</th>\n",
       "      <th>X336</th>\n",
       "      <th>X337</th>\n",
       "      <th>X338</th>\n",
       "      <th>X339</th>\n",
       "      <th>X340</th>\n",
       "      <th>X341</th>\n",
       "      <th>X342</th>\n",
       "      <th>X343</th>\n",
       "      <th>X344</th>\n",
       "      <th>X345</th>\n",
       "      <th>X346</th>\n",
       "      <th>X347</th>\n",
       "      <th>X348</th>\n",
       "      <th>X349</th>\n",
       "      <th>X350</th>\n",
       "      <th>X351</th>\n",
       "      <th>X352</th>\n",
       "      <th>X353</th>\n",
       "      <th>X354</th>\n",
       "      <th>X355</th>\n",
       "      <th>X356</th>\n",
       "      <th>X357</th>\n",
       "      <th>X358</th>\n",
       "      <th>X359</th>\n",
       "      <th>X360</th>\n",
       "      <th>X361</th>\n",
       "      <th>X362</th>\n",
       "      <th>X363</th>\n",
       "      <th>X364</th>\n",
       "      <th>X365</th>\n",
       "      <th>X366</th>\n",
       "      <th>X367</th>\n",
       "      <th>X368</th>\n",
       "      <th>X369</th>\n",
       "      <th>X370</th>\n",
       "      <th>X371</th>\n",
       "      <th>X372</th>\n",
       "      <th>X373</th>\n",
       "      <th>X374</th>\n",
       "      <th>X375</th>\n",
       "      <th>X376</th>\n",
       "      <th>X377</th>\n",
       "      <th>X378</th>\n",
       "      <th>X379</th>\n",
       "      <th>X380</th>\n",
       "      <th>X382</th>\n",
       "      <th>X383</th>\n",
       "      <th>X384</th>\n",
       "      <th>X385</th>\n",
       "    </tr>\n",
       "  </thead>\n",
       "  <tbody>\n",
       "    <tr>\n",
       "      <th>0</th>\n",
       "      <td>0</td>\n",
       "      <td>130.81</td>\n",
       "      <td>k</td>\n",
       "      <td>v</td>\n",
       "      <td>at</td>\n",
       "      <td>a</td>\n",
       "      <td>d</td>\n",
       "      <td>u</td>\n",
       "      <td>j</td>\n",
       "      <td>o</td>\n",
       "      <td>0</td>\n",
       "      <td>0</td>\n",
       "      <td>0</td>\n",
       "      <td>1</td>\n",
       "      <td>0</td>\n",
       "      <td>0</td>\n",
       "      <td>0</td>\n",
       "      <td>0</td>\n",
       "      <td>1</td>\n",
       "      <td>0</td>\n",
       "      <td>0</td>\n",
       "      <td>1</td>\n",
       "      <td>0</td>\n",
       "      <td>0</td>\n",
       "      <td>0</td>\n",
       "      <td>0</td>\n",
       "      <td>0</td>\n",
       "      <td>0</td>\n",
       "      <td>0</td>\n",
       "      <td>0</td>\n",
       "      <td>1</td>\n",
       "      <td>0</td>\n",
       "      <td>0</td>\n",
       "      <td>0</td>\n",
       "      <td>1</td>\n",
       "      <td>0</td>\n",
       "      <td>1</td>\n",
       "      <td>0</td>\n",
       "      <td>0</td>\n",
       "      <td>0</td>\n",
       "      <td>0</td>\n",
       "      <td>0</td>\n",
       "      <td>0</td>\n",
       "      <td>0</td>\n",
       "      <td>0</td>\n",
       "      <td>1</td>\n",
       "      <td>0</td>\n",
       "      <td>0</td>\n",
       "      <td>0</td>\n",
       "      <td>0</td>\n",
       "      <td>...</td>\n",
       "      <td>0</td>\n",
       "      <td>0</td>\n",
       "      <td>0</td>\n",
       "      <td>0</td>\n",
       "      <td>0</td>\n",
       "      <td>0</td>\n",
       "      <td>0</td>\n",
       "      <td>0</td>\n",
       "      <td>0</td>\n",
       "      <td>0</td>\n",
       "      <td>0</td>\n",
       "      <td>0</td>\n",
       "      <td>0</td>\n",
       "      <td>0</td>\n",
       "      <td>0</td>\n",
       "      <td>0</td>\n",
       "      <td>0</td>\n",
       "      <td>0</td>\n",
       "      <td>0</td>\n",
       "      <td>1</td>\n",
       "      <td>0</td>\n",
       "      <td>0</td>\n",
       "      <td>0</td>\n",
       "      <td>0</td>\n",
       "      <td>0</td>\n",
       "      <td>0</td>\n",
       "      <td>1</td>\n",
       "      <td>0</td>\n",
       "      <td>0</td>\n",
       "      <td>0</td>\n",
       "      <td>0</td>\n",
       "      <td>0</td>\n",
       "      <td>0</td>\n",
       "      <td>0</td>\n",
       "      <td>0</td>\n",
       "      <td>0</td>\n",
       "      <td>0</td>\n",
       "      <td>0</td>\n",
       "      <td>0</td>\n",
       "      <td>0</td>\n",
       "      <td>0</td>\n",
       "      <td>0</td>\n",
       "      <td>1</td>\n",
       "      <td>0</td>\n",
       "      <td>0</td>\n",
       "      <td>0</td>\n",
       "      <td>0</td>\n",
       "      <td>0</td>\n",
       "      <td>0</td>\n",
       "      <td>0</td>\n",
       "    </tr>\n",
       "    <tr>\n",
       "      <th>1</th>\n",
       "      <td>6</td>\n",
       "      <td>88.53</td>\n",
       "      <td>k</td>\n",
       "      <td>t</td>\n",
       "      <td>av</td>\n",
       "      <td>e</td>\n",
       "      <td>d</td>\n",
       "      <td>y</td>\n",
       "      <td>l</td>\n",
       "      <td>o</td>\n",
       "      <td>0</td>\n",
       "      <td>0</td>\n",
       "      <td>0</td>\n",
       "      <td>0</td>\n",
       "      <td>0</td>\n",
       "      <td>0</td>\n",
       "      <td>0</td>\n",
       "      <td>0</td>\n",
       "      <td>1</td>\n",
       "      <td>0</td>\n",
       "      <td>0</td>\n",
       "      <td>0</td>\n",
       "      <td>0</td>\n",
       "      <td>0</td>\n",
       "      <td>0</td>\n",
       "      <td>0</td>\n",
       "      <td>1</td>\n",
       "      <td>0</td>\n",
       "      <td>0</td>\n",
       "      <td>0</td>\n",
       "      <td>1</td>\n",
       "      <td>0</td>\n",
       "      <td>0</td>\n",
       "      <td>0</td>\n",
       "      <td>1</td>\n",
       "      <td>0</td>\n",
       "      <td>1</td>\n",
       "      <td>0</td>\n",
       "      <td>0</td>\n",
       "      <td>0</td>\n",
       "      <td>0</td>\n",
       "      <td>0</td>\n",
       "      <td>0</td>\n",
       "      <td>0</td>\n",
       "      <td>0</td>\n",
       "      <td>0</td>\n",
       "      <td>0</td>\n",
       "      <td>0</td>\n",
       "      <td>0</td>\n",
       "      <td>0</td>\n",
       "      <td>...</td>\n",
       "      <td>0</td>\n",
       "      <td>1</td>\n",
       "      <td>1</td>\n",
       "      <td>0</td>\n",
       "      <td>0</td>\n",
       "      <td>0</td>\n",
       "      <td>0</td>\n",
       "      <td>0</td>\n",
       "      <td>0</td>\n",
       "      <td>0</td>\n",
       "      <td>0</td>\n",
       "      <td>0</td>\n",
       "      <td>0</td>\n",
       "      <td>1</td>\n",
       "      <td>0</td>\n",
       "      <td>0</td>\n",
       "      <td>0</td>\n",
       "      <td>0</td>\n",
       "      <td>0</td>\n",
       "      <td>0</td>\n",
       "      <td>0</td>\n",
       "      <td>0</td>\n",
       "      <td>0</td>\n",
       "      <td>0</td>\n",
       "      <td>0</td>\n",
       "      <td>0</td>\n",
       "      <td>1</td>\n",
       "      <td>0</td>\n",
       "      <td>1</td>\n",
       "      <td>0</td>\n",
       "      <td>0</td>\n",
       "      <td>0</td>\n",
       "      <td>0</td>\n",
       "      <td>0</td>\n",
       "      <td>0</td>\n",
       "      <td>0</td>\n",
       "      <td>0</td>\n",
       "      <td>0</td>\n",
       "      <td>0</td>\n",
       "      <td>0</td>\n",
       "      <td>1</td>\n",
       "      <td>0</td>\n",
       "      <td>0</td>\n",
       "      <td>0</td>\n",
       "      <td>0</td>\n",
       "      <td>0</td>\n",
       "      <td>0</td>\n",
       "      <td>0</td>\n",
       "      <td>0</td>\n",
       "      <td>0</td>\n",
       "    </tr>\n",
       "    <tr>\n",
       "      <th>2</th>\n",
       "      <td>7</td>\n",
       "      <td>76.26</td>\n",
       "      <td>az</td>\n",
       "      <td>w</td>\n",
       "      <td>n</td>\n",
       "      <td>c</td>\n",
       "      <td>d</td>\n",
       "      <td>x</td>\n",
       "      <td>j</td>\n",
       "      <td>x</td>\n",
       "      <td>0</td>\n",
       "      <td>0</td>\n",
       "      <td>0</td>\n",
       "      <td>0</td>\n",
       "      <td>0</td>\n",
       "      <td>0</td>\n",
       "      <td>0</td>\n",
       "      <td>1</td>\n",
       "      <td>0</td>\n",
       "      <td>0</td>\n",
       "      <td>0</td>\n",
       "      <td>0</td>\n",
       "      <td>0</td>\n",
       "      <td>0</td>\n",
       "      <td>0</td>\n",
       "      <td>0</td>\n",
       "      <td>1</td>\n",
       "      <td>1</td>\n",
       "      <td>1</td>\n",
       "      <td>0</td>\n",
       "      <td>1</td>\n",
       "      <td>0</td>\n",
       "      <td>0</td>\n",
       "      <td>0</td>\n",
       "      <td>1</td>\n",
       "      <td>0</td>\n",
       "      <td>1</td>\n",
       "      <td>0</td>\n",
       "      <td>0</td>\n",
       "      <td>0</td>\n",
       "      <td>0</td>\n",
       "      <td>0</td>\n",
       "      <td>1</td>\n",
       "      <td>0</td>\n",
       "      <td>0</td>\n",
       "      <td>1</td>\n",
       "      <td>0</td>\n",
       "      <td>0</td>\n",
       "      <td>0</td>\n",
       "      <td>0</td>\n",
       "      <td>...</td>\n",
       "      <td>0</td>\n",
       "      <td>0</td>\n",
       "      <td>0</td>\n",
       "      <td>0</td>\n",
       "      <td>0</td>\n",
       "      <td>0</td>\n",
       "      <td>0</td>\n",
       "      <td>0</td>\n",
       "      <td>0</td>\n",
       "      <td>0</td>\n",
       "      <td>0</td>\n",
       "      <td>0</td>\n",
       "      <td>0</td>\n",
       "      <td>1</td>\n",
       "      <td>0</td>\n",
       "      <td>1</td>\n",
       "      <td>0</td>\n",
       "      <td>0</td>\n",
       "      <td>0</td>\n",
       "      <td>1</td>\n",
       "      <td>0</td>\n",
       "      <td>0</td>\n",
       "      <td>0</td>\n",
       "      <td>1</td>\n",
       "      <td>0</td>\n",
       "      <td>0</td>\n",
       "      <td>1</td>\n",
       "      <td>0</td>\n",
       "      <td>1</td>\n",
       "      <td>0</td>\n",
       "      <td>0</td>\n",
       "      <td>0</td>\n",
       "      <td>0</td>\n",
       "      <td>0</td>\n",
       "      <td>0</td>\n",
       "      <td>0</td>\n",
       "      <td>0</td>\n",
       "      <td>0</td>\n",
       "      <td>0</td>\n",
       "      <td>0</td>\n",
       "      <td>0</td>\n",
       "      <td>0</td>\n",
       "      <td>0</td>\n",
       "      <td>0</td>\n",
       "      <td>0</td>\n",
       "      <td>0</td>\n",
       "      <td>1</td>\n",
       "      <td>0</td>\n",
       "      <td>0</td>\n",
       "      <td>0</td>\n",
       "    </tr>\n",
       "    <tr>\n",
       "      <th>3</th>\n",
       "      <td>9</td>\n",
       "      <td>80.62</td>\n",
       "      <td>az</td>\n",
       "      <td>t</td>\n",
       "      <td>n</td>\n",
       "      <td>f</td>\n",
       "      <td>d</td>\n",
       "      <td>x</td>\n",
       "      <td>l</td>\n",
       "      <td>e</td>\n",
       "      <td>0</td>\n",
       "      <td>0</td>\n",
       "      <td>0</td>\n",
       "      <td>0</td>\n",
       "      <td>0</td>\n",
       "      <td>0</td>\n",
       "      <td>0</td>\n",
       "      <td>0</td>\n",
       "      <td>0</td>\n",
       "      <td>0</td>\n",
       "      <td>0</td>\n",
       "      <td>0</td>\n",
       "      <td>0</td>\n",
       "      <td>0</td>\n",
       "      <td>0</td>\n",
       "      <td>0</td>\n",
       "      <td>1</td>\n",
       "      <td>1</td>\n",
       "      <td>1</td>\n",
       "      <td>0</td>\n",
       "      <td>1</td>\n",
       "      <td>0</td>\n",
       "      <td>0</td>\n",
       "      <td>0</td>\n",
       "      <td>1</td>\n",
       "      <td>0</td>\n",
       "      <td>1</td>\n",
       "      <td>0</td>\n",
       "      <td>0</td>\n",
       "      <td>0</td>\n",
       "      <td>0</td>\n",
       "      <td>0</td>\n",
       "      <td>1</td>\n",
       "      <td>0</td>\n",
       "      <td>0</td>\n",
       "      <td>1</td>\n",
       "      <td>0</td>\n",
       "      <td>0</td>\n",
       "      <td>0</td>\n",
       "      <td>0</td>\n",
       "      <td>...</td>\n",
       "      <td>0</td>\n",
       "      <td>0</td>\n",
       "      <td>0</td>\n",
       "      <td>0</td>\n",
       "      <td>0</td>\n",
       "      <td>0</td>\n",
       "      <td>0</td>\n",
       "      <td>0</td>\n",
       "      <td>0</td>\n",
       "      <td>0</td>\n",
       "      <td>0</td>\n",
       "      <td>0</td>\n",
       "      <td>0</td>\n",
       "      <td>1</td>\n",
       "      <td>0</td>\n",
       "      <td>1</td>\n",
       "      <td>0</td>\n",
       "      <td>0</td>\n",
       "      <td>0</td>\n",
       "      <td>0</td>\n",
       "      <td>0</td>\n",
       "      <td>0</td>\n",
       "      <td>0</td>\n",
       "      <td>1</td>\n",
       "      <td>0</td>\n",
       "      <td>0</td>\n",
       "      <td>1</td>\n",
       "      <td>0</td>\n",
       "      <td>1</td>\n",
       "      <td>0</td>\n",
       "      <td>0</td>\n",
       "      <td>0</td>\n",
       "      <td>0</td>\n",
       "      <td>0</td>\n",
       "      <td>0</td>\n",
       "      <td>0</td>\n",
       "      <td>0</td>\n",
       "      <td>1</td>\n",
       "      <td>0</td>\n",
       "      <td>0</td>\n",
       "      <td>0</td>\n",
       "      <td>0</td>\n",
       "      <td>0</td>\n",
       "      <td>0</td>\n",
       "      <td>0</td>\n",
       "      <td>0</td>\n",
       "      <td>0</td>\n",
       "      <td>0</td>\n",
       "      <td>0</td>\n",
       "      <td>0</td>\n",
       "    </tr>\n",
       "    <tr>\n",
       "      <th>4</th>\n",
       "      <td>13</td>\n",
       "      <td>78.02</td>\n",
       "      <td>az</td>\n",
       "      <td>v</td>\n",
       "      <td>n</td>\n",
       "      <td>f</td>\n",
       "      <td>d</td>\n",
       "      <td>h</td>\n",
       "      <td>d</td>\n",
       "      <td>n</td>\n",
       "      <td>0</td>\n",
       "      <td>0</td>\n",
       "      <td>0</td>\n",
       "      <td>0</td>\n",
       "      <td>0</td>\n",
       "      <td>0</td>\n",
       "      <td>0</td>\n",
       "      <td>0</td>\n",
       "      <td>0</td>\n",
       "      <td>0</td>\n",
       "      <td>0</td>\n",
       "      <td>0</td>\n",
       "      <td>0</td>\n",
       "      <td>0</td>\n",
       "      <td>0</td>\n",
       "      <td>0</td>\n",
       "      <td>1</td>\n",
       "      <td>1</td>\n",
       "      <td>1</td>\n",
       "      <td>0</td>\n",
       "      <td>1</td>\n",
       "      <td>0</td>\n",
       "      <td>0</td>\n",
       "      <td>0</td>\n",
       "      <td>1</td>\n",
       "      <td>0</td>\n",
       "      <td>1</td>\n",
       "      <td>0</td>\n",
       "      <td>0</td>\n",
       "      <td>0</td>\n",
       "      <td>0</td>\n",
       "      <td>0</td>\n",
       "      <td>1</td>\n",
       "      <td>0</td>\n",
       "      <td>0</td>\n",
       "      <td>1</td>\n",
       "      <td>0</td>\n",
       "      <td>0</td>\n",
       "      <td>0</td>\n",
       "      <td>0</td>\n",
       "      <td>...</td>\n",
       "      <td>0</td>\n",
       "      <td>0</td>\n",
       "      <td>0</td>\n",
       "      <td>0</td>\n",
       "      <td>0</td>\n",
       "      <td>0</td>\n",
       "      <td>0</td>\n",
       "      <td>0</td>\n",
       "      <td>0</td>\n",
       "      <td>0</td>\n",
       "      <td>0</td>\n",
       "      <td>0</td>\n",
       "      <td>0</td>\n",
       "      <td>1</td>\n",
       "      <td>0</td>\n",
       "      <td>1</td>\n",
       "      <td>0</td>\n",
       "      <td>0</td>\n",
       "      <td>0</td>\n",
       "      <td>0</td>\n",
       "      <td>0</td>\n",
       "      <td>0</td>\n",
       "      <td>0</td>\n",
       "      <td>1</td>\n",
       "      <td>0</td>\n",
       "      <td>0</td>\n",
       "      <td>1</td>\n",
       "      <td>0</td>\n",
       "      <td>1</td>\n",
       "      <td>0</td>\n",
       "      <td>0</td>\n",
       "      <td>0</td>\n",
       "      <td>0</td>\n",
       "      <td>0</td>\n",
       "      <td>0</td>\n",
       "      <td>0</td>\n",
       "      <td>1</td>\n",
       "      <td>0</td>\n",
       "      <td>0</td>\n",
       "      <td>0</td>\n",
       "      <td>0</td>\n",
       "      <td>0</td>\n",
       "      <td>0</td>\n",
       "      <td>0</td>\n",
       "      <td>0</td>\n",
       "      <td>0</td>\n",
       "      <td>0</td>\n",
       "      <td>0</td>\n",
       "      <td>0</td>\n",
       "      <td>0</td>\n",
       "    </tr>\n",
       "  </tbody>\n",
       "</table>\n",
       "<p>5 rows × 378 columns</p>\n",
       "</div>"
      ],
      "text/plain": [
       "   ID       y  X0 X1  X2 X3 X4 X5 X6 X8  X10  X11  X12  X13  X14  X15  X16  \\\n",
       "0   0  130.81   k  v  at  a  d  u  j  o    0    0    0    1    0    0    0   \n",
       "1   6   88.53   k  t  av  e  d  y  l  o    0    0    0    0    0    0    0   \n",
       "2   7   76.26  az  w   n  c  d  x  j  x    0    0    0    0    0    0    0   \n",
       "3   9   80.62  az  t   n  f  d  x  l  e    0    0    0    0    0    0    0   \n",
       "4  13   78.02  az  v   n  f  d  h  d  n    0    0    0    0    0    0    0   \n",
       "\n",
       "   X17  X18  X19  X20  X21  X22  X23  X24  X26  X27  X28  X29  X30  X31  X32  \\\n",
       "0    0    1    0    0    1    0    0    0    0    0    0    0    0    1    0   \n",
       "1    0    1    0    0    0    0    0    0    0    1    0    0    0    1    0   \n",
       "2    1    0    0    0    0    0    0    0    0    1    1    1    0    1    0   \n",
       "3    0    0    0    0    0    0    0    0    0    1    1    1    0    1    0   \n",
       "4    0    0    0    0    0    0    0    0    0    1    1    1    0    1    0   \n",
       "\n",
       "   X33  X34  X35  X36  X37  X38  X39  X40  X41  X42  X43  X44  X45  X46  X47  \\\n",
       "0    0    0    1    0    1    0    0    0    0    0    0    0    0    1    0   \n",
       "1    0    0    1    0    1    0    0    0    0    0    0    0    0    0    0   \n",
       "2    0    0    1    0    1    0    0    0    0    0    1    0    0    1    0   \n",
       "3    0    0    1    0    1    0    0    0    0    0    1    0    0    1    0   \n",
       "4    0    0    1    0    1    0    0    0    0    0    1    0    0    1    0   \n",
       "\n",
       "   X48  X49  X50  ...  X335  X336  X337  X338  X339  X340  X341  X342  X343  \\\n",
       "0    0    0    0  ...     0     0     0     0     0     0     0     0     0   \n",
       "1    0    0    0  ...     0     1     1     0     0     0     0     0     0   \n",
       "2    0    0    0  ...     0     0     0     0     0     0     0     0     0   \n",
       "3    0    0    0  ...     0     0     0     0     0     0     0     0     0   \n",
       "4    0    0    0  ...     0     0     0     0     0     0     0     0     0   \n",
       "\n",
       "   X344  X345  X346  X347  X348  X349  X350  X351  X352  X353  X354  X355  \\\n",
       "0     0     0     0     0     0     0     0     0     0     0     1     0   \n",
       "1     0     0     0     0     1     0     0     0     0     0     0     0   \n",
       "2     0     0     0     0     1     0     1     0     0     0     1     0   \n",
       "3     0     0     0     0     1     0     1     0     0     0     0     0   \n",
       "4     0     0     0     0     1     0     1     0     0     0     0     0   \n",
       "\n",
       "   X356  X357  X358  X359  X360  X361  X362  X363  X364  X365  X366  X367  \\\n",
       "0     0     0     0     0     0     1     0     0     0     0     0     0   \n",
       "1     0     0     0     0     0     1     0     1     0     0     0     0   \n",
       "2     0     0     1     0     0     1     0     1     0     0     0     0   \n",
       "3     0     0     1     0     0     1     0     1     0     0     0     0   \n",
       "4     0     0     1     0     0     1     0     1     0     0     0     0   \n",
       "\n",
       "   X368  X369  X370  X371  X372  X373  X374  X375  X376  X377  X378  X379  \\\n",
       "0     0     0     0     0     0     0     0     0     0     1     0     0   \n",
       "1     0     0     0     0     0     0     0     1     0     0     0     0   \n",
       "2     0     0     0     0     0     0     0     0     0     0     0     0   \n",
       "3     0     0     0     0     1     0     0     0     0     0     0     0   \n",
       "4     0     0     0     1     0     0     0     0     0     0     0     0   \n",
       "\n",
       "   X380  X382  X383  X384  X385  \n",
       "0     0     0     0     0     0  \n",
       "1     0     0     0     0     0  \n",
       "2     0     1     0     0     0  \n",
       "3     0     0     0     0     0  \n",
       "4     0     0     0     0     0  \n",
       "\n",
       "[5 rows x 378 columns]"
      ]
     },
     "execution_count": 2,
     "metadata": {},
     "output_type": "execute_result"
    }
   ],
   "source": [
    "file_path = \"https://github.com/mbburova/MDS/raw/main/train_mercedes.csv\"\n",
    "df = pd.read_csv(file_path)\n",
    "df.head()"
   ]
  },
  {
   "cell_type": "code",
   "execution_count": 3,
   "id": "58862d30",
   "metadata": {},
   "outputs": [
    {
     "name": "stdout",
     "output_type": "stream",
     "text": [
      "(4209, 376)\n"
     ]
    }
   ],
   "source": [
    "from sklearn.model_selection import train_test_split\n",
    "\n",
    "y = df[\"y\"]\n",
    "X = df.drop([\"ID\", \"y\"], axis=1)\n",
    "print(X.shape)\n",
    "\n",
    "X_tr, X_te, y_tr, y_te = train_test_split(X, y, test_size=0.3, random_state=1)"
   ]
  },
  {
   "cell_type": "markdown",
   "id": "35453e21",
   "metadata": {},
   "source": [
    "---\n",
    "### Baseline model\n",
    "\n",
    "As we can see from a simple exploratory analysis, this dataset contains only categorical and ordinal features. Also, there are no missing values in any features. \n",
    "\n",
    "Thus, as a very first baseline model, we can just one-hot encode categorical variables and apply linear regression with $l_2$-regularization to predict target variable. "
   ]
  },
  {
   "cell_type": "code",
   "execution_count": 4,
   "id": "9f3ca7ac",
   "metadata": {},
   "outputs": [
    {
     "name": "stdout",
     "output_type": "stream",
     "text": [
      "Number of binary features = 368\n",
      "Number of categorical features = 8\n",
      "Number of columns with any missing values: 0\n"
     ]
    }
   ],
   "source": [
    "bin_cols = X_tr.columns[X_tr.dtypes == \"int64\"].tolist() \n",
    "print(\"Number of binary features =\", len(bin_cols))\n",
    "\n",
    "cat_cols = X_tr.columns[X_tr.dtypes == \"object\"].tolist()\n",
    "print(\"Number of categorical features =\", len(cat_cols))\n",
    "\n",
    "print(\"Number of columns with any missing values:\", X_tr.isnull().any(axis=0).sum())"
   ]
  },
  {
   "cell_type": "markdown",
   "id": "69f1c1f6",
   "metadata": {},
   "source": [
    "\n",
    "---\n",
    "**Step 1.1** \n",
    "\n",
    "We will evaluate model prediciton quality with $R^2$-score metric. Let's implement a function to evaluate performance of a given model both on the train and test sets. The function should\n",
    "- take as input a model (possibly a pipeline), as well as feature matrix and target variable for both train and test sets,\n",
    "- fit the model on the train set,\n",
    "- compute model predictions for train and test sets,\n",
    "- assess the quality of both predictions with $R^2$ score,\n",
    "- return train and test $R^2$ scores."
   ]
  },
  {
   "cell_type": "code",
   "execution_count": 5,
   "id": "4449e213",
   "metadata": {},
   "outputs": [],
   "source": [
    "from sklearn.pipeline import Pipeline\n",
    "from sklearn.metrics import r2_score, accuracy_score\n",
    "\n",
    "def evaluate_model(model, X_tr, y_tr, X_te, y_te):\n",
    "    # set a fixed random seed for model weights initialization \n",
    "    # to obtain reproducible results.\n",
    "    # Do not change the value.\n",
    "    if isinstance(model, Pipeline):\n",
    "        model.set_params(estimator__random_state=0);    \n",
    "    else:\n",
    "        model.set_params(random_state=0);    \n",
    "\n",
    "    model.fit(X_tr, y_tr)\n",
    "    pred_tr = model.predict(X_tr)\n",
    "    pred_te = model.predict(X_te)\n",
    "    R2_tr = r2_score(y_tr, pred_tr)\n",
    "    R2_te = r2_score(y_te, pred_te)\n",
    "    return R2_tr, R2_te"
   ]
  },
  {
   "cell_type": "code",
   "execution_count": 6,
   "id": "63793929",
   "metadata": {},
   "outputs": [
    {
     "name": "stdout",
     "output_type": "stream",
     "text": [
      "R2 on train: 0.03454859974270774\n",
      "R2 on test: -0.02162045646924393\n"
     ]
    }
   ],
   "source": [
    "from sklearn.linear_model import Ridge\n",
    "# TEST evaluate_model \n",
    "res = evaluate_model(Ridge(), X_tr.iloc[:100, 10:11], y_tr[:100], X_tr.iloc[100:150, 10:11], y_tr[100:150])\n",
    "print('R2 on train:', res[0])\n",
    "print('R2 on test:', res[1])"
   ]
  },
  {
   "cell_type": "markdown",
   "id": "4c8b04ca",
   "metadata": {},
   "source": [
    "\n",
    "---\n",
    "**Step 1.2**\n",
    "\n",
    "We'll initialize the baseline model. It should represent a pipeline including ohe-hot encoding of categorical variables and a `Ridge` regression (`sklearn` imlementation of linear regression with $l_2$ regularization) model with default parameters. \n",
    "\n",
    "- create `col_transformer` - ColumnTransformer pipeline with a single transformer - `OneHotEncoder` applied to categorical columns (**cat_cols**) only. To keep other (binary) features, use `remainder=passthrough` argument of `ColumnTransformer`.\n",
    "- create `model` - Pipeline with two steps:\n",
    "    - **col_transformer** you created before (used to encode categorical features)\n",
    "    - **estimator** should be a `Ridge` regression with default parameters. *Please, make sure that this step is named exactly **estimator**. It will be used in the latter tasks.* "
   ]
  },
  {
   "cell_type": "code",
   "execution_count": 7,
   "id": "1e40edee",
   "metadata": {},
   "outputs": [],
   "source": [
    "from sklearn.compose import ColumnTransformer\n",
    "from sklearn.preprocessing import OneHotEncoder\n",
    "\n",
    "col_transformer = ColumnTransformer([(\"ohenc\", OneHotEncoder(handle_unknown='ignore'), cat_cols)],\n",
    "                                   remainder=\"passthrough\")\n",
    "\n",
    "model = Pipeline([('transform', col_transformer),\n",
    "                 ('estimator', Ridge())])"
   ]
  },
  {
   "cell_type": "code",
   "execution_count": 8,
   "id": "8c3e13d9",
   "metadata": {},
   "outputs": [
    {
     "name": "stdout",
     "output_type": "stream",
     "text": [
      "Column transformers:\n",
      "[('ohenc', OneHotEncoder(handle_unknown='ignore'), ['X0', 'X1', 'X2', 'X3', 'X4', 'X5', 'X6', 'X8'])]\n",
      "Pipeline:\n",
      "('transform', ColumnTransformer(remainder='passthrough',\n",
      "                  transformers=[('ohenc',\n",
      "                                 OneHotEncoder(handle_unknown='ignore'),\n",
      "                                 ['X0', 'X1', 'X2', 'X3', 'X4', 'X5', 'X6',\n",
      "                                  'X8'])]))\n",
      "('estimator', Ridge())\n"
     ]
    }
   ],
   "source": [
    "# TEST baseline model\n",
    "print('Column transformers:')\n",
    "print(col_transformer.transformers)\n",
    "\n",
    "print('Pipeline:')\n",
    "print(model.steps[0])\n",
    "print(model.steps[1])"
   ]
  },
  {
   "cell_type": "markdown",
   "id": "9fe46851",
   "metadata": {},
   "source": [
    "Now we can evaluate the baseline model performance:"
   ]
  },
  {
   "cell_type": "code",
   "execution_count": 9,
   "id": "33a02bd0",
   "metadata": {},
   "outputs": [
    {
     "name": "stdout",
     "output_type": "stream",
     "text": [
      "Train R2 = 0.62\n",
      "Test R2 = 0.57\n"
     ]
    }
   ],
   "source": [
    "R2_tr, R2_te = evaluate_model(model, X_tr, y_tr, X_te, y_te)\n",
    "print(\"Train R2 = %.2f\" % R2_tr)\n",
    "print(\"Test R2 = %.2f\" % R2_te)"
   ]
  },
  {
   "cell_type": "markdown",
   "id": "2fbbc188",
   "metadata": {},
   "source": [
    "As we can see, model performance on the training set is slightly higher than on the test data. This can mean that there is overfitting, which is especially likely when number of features is large."
   ]
  },
  {
   "cell_type": "code",
   "execution_count": 10,
   "id": "f8c6152a",
   "metadata": {},
   "outputs": [
    {
     "name": "stdout",
     "output_type": "stream",
     "text": [
      "Number of features before one-hot-encoding: \n",
      "376 \n",
      "\n",
      "Number of features after one-hot-encoding: \n",
      "560\n"
     ]
    }
   ],
   "source": [
    "print(\"Number of features before one-hot-encoding: \")\n",
    "print(X_tr.shape[1], '\\n')\n",
    "\n",
    "print(\"Number of features after one-hot-encoding: \")\n",
    "print(col_transformer.fit_transform(X_tr).shape[1])"
   ]
  },
  {
   "cell_type": "markdown",
   "id": "07e70f54",
   "metadata": {},
   "source": [
    "\n",
    "As we can see, there were quite a lot of features in the original sample, and after the one-hot encoding of categorical variables, their number increased by almost one and a half times.\n",
    "\n",
    "\n",
    "To avoid overfitting, it can be helpful to reduce the number of variables by selecting the most important ones. In our sample, all the variables are anonymized. However we can still select the most relevant based not on their physical meaning, but on their observed predictive power and informativeness for the model."
   ]
  },
  {
   "cell_type": "markdown",
   "id": "3addacca",
   "metadata": {},
   "source": [
    "### Filter-based methods\n",
    "<!-- ### Univariate feature selection (filter-based methods) -->\n",
    "\n",
    "The most simple group of feature selection approaches are filter-based methods or univariate feature selection. These methods are based on analysis of individual predictive power of each variable. In our case, since we have a regression problem, we can simply check the correlation of each feature with the target variable. \n",
    "\n",
    "In `sklearn`, you can find a ready-to-use implementation of univariate feature selection algorithm - `SelectKBest` transformer, which filters out a set of **k** features based on the values of **scoring function**. "
   ]
  },
  {
   "cell_type": "markdown",
   "id": "75d57089",
   "metadata": {},
   "source": [
    "\n",
    "---\n",
    "**Step 1.3**\n",
    "\n",
    "We'll implement a function to compute absolute value of correlation of each feature variable with the target variable.\n",
    " The function should:\n",
    "- take as input the feature matrix and the target variable,\n",
    "- compute correlation coefficient of each feature in the feature matrix and the target variable,\n",
    "- return a vector of correlation coefficient for all features in the dataset."
   ]
  },
  {
   "cell_type": "code",
   "execution_count": 11,
   "id": "730987a6",
   "metadata": {},
   "outputs": [],
   "source": [
    "def get_abs_corr_coef(X, y):\n",
    "    \"\"\"\n",
    "    Compute\n",
    "\n",
    "    Parameters\n",
    "    ----------\n",
    "    X : numpy.ndarray of shape (n_samples, n_features)\n",
    "        Feature matrix.\n",
    "    y : numpy.ndarray of shape (n_samples,)\n",
    "        Target variable\n",
    "    \n",
    "    Returns\n",
    "    -------\n",
    "    corr_coefs : numpy.ndarray of shape (n_features,)\n",
    "        Vector of absolute values of correlation coefficients \n",
    "        for all features\n",
    "    \"\"\"\n",
    "\n",
    "    import scipy.stats\n",
    "    X = X.transpose()\n",
    "    corr_coefs = np.array([abs(scipy.stats.pearsonr(i, y)[0]) for i in X])\n",
    "    return corr_coefs"
   ]
  },
  {
   "cell_type": "code",
   "execution_count": 12,
   "id": "a6474e73",
   "metadata": {},
   "outputs": [
    {
     "name": "stdout",
     "output_type": "stream",
     "text": [
      "[1.        0.8660254 0.8660254]\n"
     ]
    }
   ],
   "source": [
    "# TEST get_abs_corr_coef\n",
    "A = np.array(\n",
    "    [[1, 0, 0],\n",
    "     [0, 0.5, -0.5],\n",
    "     [0, 1, -1]]\n",
    ")\n",
    "b = [0, 1, 1]\n",
    "print(get_abs_corr_coef(A, b))\n"
   ]
  },
  {
   "cell_type": "markdown",
   "id": "75c5965e",
   "metadata": {},
   "source": [
    "Now we can check how model performance changes if we use only `k=30` variables with strongest correlation (both positive and negative) with the target variable."
   ]
  },
  {
   "cell_type": "markdown",
   "id": "be41fb2f",
   "metadata": {},
   "source": [
    "\n",
    "---\n",
    "**Step 1.4**\n",
    "\n",
    "Let's initialize the model with filter-based feature selection. \n",
    "\n",
    "\n",
    "Create `model_k_best` - Pipeline with three steps:\n",
    "- **col_transformer** that you've created in step 1.2\n",
    "- **feat_selector**  - `SelectKBest` transformer. It should use `get_abs_corr_coef` scoring function to select `30` features. \n",
    "- **estimator** - `Ridge` regression with default parameters. *Please, make sure that this step is named exactly **estimator**. It will be used in the latter tasks.*"
   ]
  },
  {
   "cell_type": "code",
   "execution_count": 13,
   "id": "253c508b",
   "metadata": {},
   "outputs": [],
   "source": [
    "from sklearn.feature_selection import SelectKBest\n",
    "\n",
    "feat_selector = SelectKBest(get_abs_corr_coef, k=30)\n",
    "\n",
    "model_k_best = Pipeline([('transform', col_transformer),\n",
    "                         ('selection', feat_selector),\n",
    "                         ('estimator', Ridge())])"
   ]
  },
  {
   "cell_type": "code",
   "execution_count": 14,
   "id": "35518d11",
   "metadata": {},
   "outputs": [
    {
     "name": "stdout",
     "output_type": "stream",
     "text": [
      "Pipeline:\n",
      "('transform', ColumnTransformer(remainder='passthrough',\n",
      "                  transformers=[('ohenc',\n",
      "                                 OneHotEncoder(handle_unknown='ignore'),\n",
      "                                 ['X0', 'X1', 'X2', 'X3', 'X4', 'X5', 'X6',\n",
      "                                  'X8'])]))\n",
      "('selection', SelectKBest(k=30, score_func=<function get_abs_corr_coef at 0x000001AB351F55E0>))\n",
      "('estimator', Ridge())\n"
     ]
    }
   ],
   "source": [
    "# TEST model with filter-based feature selection\n",
    "\n",
    "print('Pipeline:')\n",
    "print(model_k_best.steps[0])\n",
    "print(model_k_best.steps[1])\n",
    "print(model_k_best.steps[2])\n"
   ]
  },
  {
   "cell_type": "code",
   "execution_count": 15,
   "id": "f4878184",
   "metadata": {},
   "outputs": [
    {
     "name": "stdout",
     "output_type": "stream",
     "text": [
      "Train R2 = 0.54\n",
      "Test R2 = 0.59\n"
     ]
    }
   ],
   "source": [
    "R2_tr_kbest, R2_te_kbest = evaluate_model(model_k_best, X_tr, y_tr, X_te, y_te)\n",
    "print(\"Train R2 = %.2f\" % R2_tr_kbest)\n",
    "print(\"Test R2 = %.2f\" % R2_te_kbest)"
   ]
  },
  {
   "cell_type": "markdown",
   "id": "ab0b8131",
   "metadata": {},
   "source": [
    "### Wrapper methods \n",
    "\n",
    "In wrapper methods, feature selection process is based on the greedy search.  Different combinations of features are evaluated and compared using the evaluation criterion, which is simply the performance of the trained model, measured with any appropriated score.\n"
   ]
  },
  {
   "cell_type": "markdown",
   "id": "0ac08d37",
   "metadata": {},
   "source": [
    "Sklearn has a ready-to-use implementation of a wrapper feature selection algorithm called **Recursive Feature Elimination** (RFE). \n",
    "\n",
    "The algorithm works by iteratively eliminating features which turned out to be least important based on their weights (or other importance scores) in the trained model. For instance, if the linear regression is used as a base algorithm in selection process, the model is first trained on the whole feature set. Then, the features with smallest weights (coefficients) are excluded, and the model is re-trained on the remaining feature set. The process is repeated until the desired number of features is reached."
   ]
  },
  {
   "cell_type": "markdown",
   "id": "fc98f12c",
   "metadata": {},
   "source": [
    "\n",
    "---\n",
    "**Step 1.5**\n",
    "\n",
    "Initialize the model with Recursive Feature Elimination method for feature selection.\n",
    "\n",
    "\n",
    "\n",
    "Create `model_rfe` - Pipeline with three steps:\n",
    "- **col_transformer** that you've created in step 1.2\n",
    "- **feat_selector**  - `RFE` transformer. It should use `Ridge` regression with default parameters as an internal estimator to select `20` features. \n",
    "- **estimator** - `Ridge` regression with default parameters. \n",
    "\n",
    "\n",
    "*Note, that instance of Ridge regression used in `RFE` transformer should not be the same used as estimator. You need 2 independent instances of the same model.*"
   ]
  },
  {
   "cell_type": "code",
   "execution_count": 16,
   "id": "a4864dc4",
   "metadata": {},
   "outputs": [],
   "source": [
    "from sklearn.feature_selection import RFE\n",
    "\n",
    "rfe = RFE(Ridge(), n_features_to_select=20, step=1)\n",
    "model_rfe = Pipeline([('transform', col_transformer),\n",
    "                         ('selection', rfe),\n",
    "                         ('estimator', Ridge())])"
   ]
  },
  {
   "cell_type": "code",
   "execution_count": 17,
   "id": "ba7d41e8",
   "metadata": {},
   "outputs": [
    {
     "name": "stdout",
     "output_type": "stream",
     "text": [
      "Pipeline:\n",
      "('transform', ColumnTransformer(remainder='passthrough',\n",
      "                  transformers=[('ohenc',\n",
      "                                 OneHotEncoder(handle_unknown='ignore'),\n",
      "                                 ['X0', 'X1', 'X2', 'X3', 'X4', 'X5', 'X6',\n",
      "                                  'X8'])]))\n",
      "('selection', RFE(estimator=Ridge(), n_features_to_select=20))\n",
      "('estimator', Ridge())\n"
     ]
    }
   ],
   "source": [
    "# TEST model with wrapper feature selection\n",
    "\n",
    "print('Pipeline:')\n",
    "print(model_rfe.steps[0])\n",
    "print(model_rfe.steps[1])\n",
    "print(model_rfe.steps[2])\n"
   ]
  },
  {
   "cell_type": "markdown",
   "id": "5f99bf50",
   "metadata": {},
   "source": [
    "Evaluate the model (it may take some time). "
   ]
  },
  {
   "cell_type": "code",
   "execution_count": 18,
   "id": "663d177b",
   "metadata": {},
   "outputs": [
    {
     "name": "stdout",
     "output_type": "stream",
     "text": [
      "Train R2 = 0.54\n",
      "Test R2 = 0.57\n"
     ]
    }
   ],
   "source": [
    "R2_tr_rfe, R2_te_rfe = evaluate_model(model_rfe, X_tr, y_tr, X_te, y_te)\n",
    "print(\"Train R2 = %.2f\" % R2_tr_rfe)\n",
    "print(\"Test R2 = %.2f\" % R2_te_rfe)"
   ]
  },
  {
   "cell_type": "markdown",
   "id": "0492b9bd",
   "metadata": {},
   "source": [
    "Two widely used wrapper feature selection approaches a **Forward** and **Backward** sequential feature selection. \n",
    "\n",
    "In **Forward feature selection** method, one starts from an empty set of selected features. Then, in each iteration, the feature that improves the model performance most is added to the feature set. The process continues until desired number of features is achieved or an addition of a new feature does not improve the model performance.\n",
    "\n",
    "In **Backward feature selection** method, one starts from the set of all features and iteratively removes the feature, the elimination of which improves the model performance most. Again, the process continues until desired number of features is achieved or an elimination of another feature does not improve the model performance.\n",
    "\n",
    "In the cases when number of feature is very large, and number of informative ones is expected to be considerably smaller, backward feature selection algorithm can take very long time to converge, and forward feature selection is usually preferred."
   ]
  },
  {
   "cell_type": "markdown",
   "id": "aa03d4e9",
   "metadata": {},
   "source": [
    "\n",
    "---\n",
    "**Step 1.6**\n",
    "\n",
    "Implement a transformer class to perform forward feature selection of a predefined number of features. \n",
    "- Start from an **empty** set of **selected features**. \n",
    "- At each step, train the model on the current set of selected features and one of the yet not selected features - **candidate features**. Score model either on the training, or on validation set and collect model scores for all candidate features.\n",
    "- Select from candidate features the feature, that improved model performance most, add it to the set of selected features and eliminate from candidate features.\n",
    "- Repeat until the desired number of selected features is achieved."
   ]
  },
  {
   "cell_type": "code",
   "execution_count": 19,
   "id": "50204167",
   "metadata": {},
   "outputs": [],
   "source": [
    "from sklearn.base import TransformerMixin, BaseEstimator\n",
    "\n",
    "class ForwardFeatureSelection(BaseEstimator, TransformerMixin):\n",
    "    \"\"\"\n",
    "    Selects features by iteratively adding the features \n",
    "    which provides the highest model score.\n",
    "\n",
    "    Parameters\n",
    "    ----------\n",
    "    estimator : object\n",
    "        A supervised learning estimator with ``fit`` and ``score`` methods.\n",
    "    n_features_to_select : int \n",
    "        The number of features to select.\n",
    "    \"\"\"\n",
    "\n",
    "    def __init__(self, estimator, n_features_to_select):\n",
    "        \n",
    "        self.estimator = estimator\n",
    "        self.n_features_to_select = n_features_to_select\n",
    "    \n",
    "    def fit(self, X, y):\n",
    "        \"\"\"\n",
    "        Perform forward feature selection and save selected feature subset.\n",
    "        \n",
    "        Parameters\n",
    "        ----------\n",
    "        X : pd.DataFrame or numpy.ndarray of shape (n_samples, n_features)\n",
    "            Feature matrix.\n",
    "        y : pd.Series or numpy.ndarray of shape (n_samples,) (default : None)\n",
    "            Target values.\n",
    "\n",
    "        Returns\n",
    "        -------\n",
    "        self : returns an instance of self.\n",
    "        \"\"\"\n",
    "        if type(X) is not np.ndarray:\n",
    "            X = X.values\n",
    "        if type(y) is not np.ndarray:\n",
    "            y = y.values\n",
    "\n",
    "        feats_idx = list(range(X.shape[1])) # not yet selected features\n",
    "        self.selected_feats_idx = [] # selected features\n",
    "        self.selected_feats_scores = [] # scores of the selected features\n",
    "\n",
    "        for _ in range(self.n_features_to_select):\n",
    "            scores = []\n",
    "            for i in feats_idx: \n",
    "                # use `self.estimator` to compute score after addition of the feature number `i`\n",
    "                model = self.estimator\n",
    "                feature = X[:, i].reshape(-1, 1)\n",
    "                model.fit(feature, y)\n",
    "                y_pred = model.predict(feature)\n",
    "                scores.append(r2_score(y_pred, y))\n",
    "                \n",
    "            # select feature with the best score\n",
    "            best_score_idx = np.argmax(scores) # get an index of the max value\n",
    "            self.selected_feats_scores.append(scores[best_score_idx]) # append max value\n",
    "            self.selected_feats_idx.append(feats_idx[best_score_idx]) # append index of max value\n",
    "            feats_idx.remove(feats_idx[best_score_idx])\n",
    "        \n",
    "        return self\n",
    "    \n",
    "    def transform(self, X):\n",
    "        \"\"\"\n",
    "        Select features according to precomputed feature subset.\n",
    "\n",
    "        Parameters\n",
    "        ----------\n",
    "        X : numpy.ndarray of shape (n_samples, n_features)\n",
    "            Feature matrix.\n",
    "        \n",
    "        Returns\n",
    "        -------\n",
    "        X_transformed : array-like of shape (n_samples, n_features)\n",
    "            Transformed feature matrix. \n",
    "        \"\"\"\n",
    "        if type(X) is not np.ndarray:\n",
    "            X = X.values\n",
    "        # use `self.selected_feats_idx` to select \"the best\" features\n",
    "        X_transformed = X[:, self.selected_feats_idx]\n",
    "        return X_transformed"
   ]
  },
  {
   "cell_type": "code",
   "execution_count": 20,
   "id": "88a36c2a",
   "metadata": {},
   "outputs": [
    {
     "name": "stdout",
     "output_type": "stream",
     "text": [
      "Selected columns:\n",
      "Index(['X314', 'X261'], dtype='object')\n",
      "[[1 1]\n",
      " [0 0]\n",
      " [1 1]\n",
      " [1 1]\n",
      " [0 0]]\n"
     ]
    }
   ],
   "source": [
    "# TEST ForwardFeatureSelection on toy example\n",
    "test_data_X = X_tr.iloc[:100, 10:]\n",
    "test_data_y = y_tr[:100]\n",
    "\n",
    "selector = ForwardFeatureSelection(Ridge(), 2)\n",
    "\n",
    "# fit\n",
    "selector.fit(test_data_X, test_data_y)\n",
    "print('Selected columns:')\n",
    "print(test_data_X.columns[selector.selected_feats_idx])\n",
    "\n",
    "# transform\n",
    "X_transformed = selector.transform(test_data_X)\n",
    "print(X_transformed[:5])\n"
   ]
  },
  {
   "cell_type": "markdown",
   "id": "27a8c0d6",
   "metadata": {},
   "source": [
    "\n",
    "---\n",
    "**Step 1.7**\n",
    "\n",
    "Initialize the model with Forward Feature Selection method. \n",
    "\n",
    "\n",
    "\n",
    "\n",
    "Create `model_forward` - Pipeline with three steps:\n",
    "- **col_transformer** that you've created in step 1.2\n",
    "- **feat_selector**  - `ForwardFeatureSelection` transformer implemented in the previous task. It should use `Ridge` regression with default parameters as an internal estimator to select `20` features. \n",
    "- **estimator** - `Ridge` regression with default parameters.\n",
    "\n",
    "\n",
    "*Note, that instance of Ridge regression used in `ForwardFeatureSelection` transformer should not be the same used as estimator. You need 2 independent instances of th esame model.*"
   ]
  },
  {
   "cell_type": "code",
   "execution_count": 21,
   "id": "8ba8ec16",
   "metadata": {},
   "outputs": [],
   "source": [
    "forward = ForwardFeatureSelection(Ridge(), 20)\n",
    "model_forward = Pipeline([('transform', col_transformer),\n",
    "                         ('feat_selector', forward), \n",
    "                         ('estimator', Ridge())])"
   ]
  },
  {
   "cell_type": "code",
   "execution_count": 22,
   "id": "1df59ff7",
   "metadata": {},
   "outputs": [
    {
     "name": "stdout",
     "output_type": "stream",
     "text": [
      "Pipeline:\n",
      "('transform', ColumnTransformer(remainder='passthrough',\n",
      "                  transformers=[('ohenc',\n",
      "                                 OneHotEncoder(handle_unknown='ignore'),\n",
      "                                 ['X0', 'X1', 'X2', 'X3', 'X4', 'X5', 'X6',\n",
      "                                  'X8'])]))\n",
      "('feat_selector', ForwardFeatureSelection(estimator=Ridge(), n_features_to_select=20))\n",
      "('estimator', Ridge())\n"
     ]
    }
   ],
   "source": [
    "# TEST model with ForwardFeatureSelection\n",
    "\n",
    "print('Pipeline:')\n",
    "print(model_forward.steps[0])\n",
    "print(model_forward.steps[1])\n",
    "print(model_forward.steps[2])"
   ]
  },
  {
   "cell_type": "markdown",
   "id": "920c2ffa",
   "metadata": {},
   "source": [
    "Evaluate the model (it may take some time). "
   ]
  },
  {
   "cell_type": "code",
   "execution_count": 23,
   "id": "ea1fbf32",
   "metadata": {},
   "outputs": [
    {
     "name": "stdout",
     "output_type": "stream",
     "text": [
      "Train R2 = 0.50\n",
      "Test R2 = 0.55\n"
     ]
    }
   ],
   "source": [
    "R2_tr_forward, R2_te_forward = evaluate_model(model_forward, X_tr, y_tr, X_te, y_te)\n",
    "print(\"Train R2 = %.2f\" % R2_tr_forward)\n",
    "print(\"Test R2 = %.2f\" % R2_te_forward)"
   ]
  },
  {
   "cell_type": "markdown",
   "id": "65aac55d",
   "metadata": {},
   "source": [
    "Let us see, how the performance of the model was changing."
   ]
  },
  {
   "cell_type": "code",
   "execution_count": 24,
   "id": "187f1a88",
   "metadata": {},
   "outputs": [
    {
     "data": {
      "image/png": "[encoded data removed]",
      "text/plain": [
       "<Figure size 720x360 with 1 Axes>"
      ]
     },
     "metadata": {
      "needs_background": "light"
     },
     "output_type": "display_data"
    }
   ],
   "source": [
    "train_scores = [R2_tr, R2_tr_kbest, R2_tr_rfe, R2_tr_forward]\n",
    "test_scores = [R2_te ,R2_te_kbest, R2_te_rfe, R2_te_forward]\n",
    "models = ['All features', 'KBest', 'RFE', 'Forward Selection']\n",
    " \n",
    "plt.figure(figsize=(10, 5))\n",
    "plt.plot(train_scores)\n",
    "plt.plot(test_scores)\n",
    "plt.scatter(range(len(models)), train_scores, label=\"train\")\n",
    "plt.scatter(range(len(models)), test_scores, label=\"test\")\n",
    "plt.xticks(range(len(models)), models, rotation=30)\n",
    "plt.ylabel(\"Model's R2 score\", fontdict={\"size\" : 12})\n",
    "plt.title(\"Dependence of model's score on the features selection method\", fontdict={\"size\" : 14})\n",
    "plt.legend()\n",
    "plt.grid()\n",
    "plt.show()"
   ]
  },
  {
   "cell_type": "markdown",
   "id": "fd895a79",
   "metadata": {},
   "source": [
    "---\n",
    "## Problem 2. Model hyperparameter tuning  <a class=\"anchor\" id=\"part2\"></a>\n",
    "---\n",
    "\n",
    "In the previous task, we used Ridge regression with $l_2$ regularization to predict the target variable. The model hyperparameter `alpha` determines the strength of the regularization, but so far we have used its default value ($alpha = 1$), which may be not optimal. \n",
    "\n",
    "In addition, different models may require different degrees of regularization, and it would be incorrect to compare their quality with one fixed value. Now we will optimize the degree of regularization of our regression model.\n",
    "\n",
    "<!-- Among `sklearn.linear_models`, you can find implementation of the regression models with $l_1$ regularization (`Lasso`), $l_2$ regularization (`Ridge`), as well as their combination (`ElasticNet`). -->\n",
    "\n",
    "**Grid search** is commonly used to find the optimal value of the regularization coefficient (and other model hyperparameters). For each combination of hyperparameters, a model is trained, and its performance is measured on a validation set or using cross-validation. The set of hyperparameters at which the model achieves the best validation performance is optimal.\n",
    "\n",
    "Note that the test set on which the final model evaluation is performed should not be used as a validation set for hyperparameter tuning. Otherwise, overfitting occurs and the model quality measured on this test set no longer reflects its predictive ability for the new unseen data. \n",
    "\n",
    "`Sklearn` has ready-to-use implementation of grid search - `GridSearchCV` estimator.  It evaluates model performance on cross-validation for each hyperparameter set and selects the best model accordingly."
   ]
  },
  {
   "cell_type": "markdown",
   "id": "e5bcc1f0",
   "metadata": {},
   "source": [
    "---\n",
    "**Step 2.1**\n",
    "\n",
    "\n",
    "Use `GridSearchCV` to find optimal $l_2$ regularization coefficient for two models: \n",
    "1. Baseline pipeline without feature selection (`model` from step 1.2)\n",
    "2. Pipeline with univariate feature selection (`model_k_best` from step 1.4)\n",
    "\n",
    "Then, compare which model is better with optimal hyperparameters.\n",
    "\n",
    "- We will use `alphas` - list of regularization coefficient (`estimator__alpha`) to search through. \n",
    "\n",
    "- Create two `GridSearchCV` objects \n",
    "    - `grid_cv` for baseline model \n",
    "    - `grid_cv_k_best` for model with feature selection. \n",
    "\n",
    "- For each model, fit `GridSearchCV` on the whole training set `X_tr`. Optimize $R^2$-score on 3-fold cross-validation. "
   ]
  },
  {
   "cell_type": "code",
   "execution_count": 25,
   "id": "6626aea0",
   "metadata": {},
   "outputs": [],
   "source": [
    "from sklearn.model_selection import GridSearchCV\n",
    "\n",
    "alphas = np.logspace(-4, 4, 9)\n",
    "param_grid = {\n",
    "    \"estimator__alpha\" : alphas,\n",
    "}"
   ]
  },
  {
   "cell_type": "code",
   "execution_count": 26,
   "id": "5320cf1d",
   "metadata": {},
   "outputs": [
    {
     "data": {
      "text/plain": [
       "GridSearchCV(cv=3,\n",
       "             estimator=Pipeline(steps=[('transform',\n",
       "                                        ColumnTransformer(remainder='passthrough',\n",
       "                                                          transformers=[('ohenc',\n",
       "                                                                         OneHotEncoder(handle_unknown='ignore'),\n",
       "                                                                         ['X0',\n",
       "                                                                          'X1',\n",
       "                                                                          'X2',\n",
       "                                                                          'X3',\n",
       "                                                                          'X4',\n",
       "                                                                          'X5',\n",
       "                                                                          'X6',\n",
       "                                                                          'X8'])])),\n",
       "                                       ('estimator', Ridge(random_state=0))]),\n",
       "             param_grid={'estimator__alpha': array([1.e-04, 1.e-03, 1.e-02, 1.e-01, 1.e+00, 1.e+01, 1.e+02, 1.e+03,\n",
       "       1.e+04])},\n",
       "             scoring='r2')"
      ]
     },
     "execution_count": 26,
     "metadata": {},
     "output_type": "execute_result"
    }
   ],
   "source": [
    "# define 'GridSearchCV' objects\n",
    "grid_cv = GridSearchCV(model, param_grid=param_grid, cv=3, scoring='r2')\n",
    "\n",
    "# fit pipeline\n",
    "grid_cv.fit(X_tr, y_tr)"
   ]
  },
  {
   "cell_type": "code",
   "execution_count": 27,
   "id": "2b05639d",
   "metadata": {},
   "outputs": [
    {
     "data": {
      "text/plain": [
       "GridSearchCV(cv=3,\n",
       "             estimator=Pipeline(steps=[('transform',\n",
       "                                        ColumnTransformer(remainder='passthrough',\n",
       "                                                          transformers=[('ohenc',\n",
       "                                                                         OneHotEncoder(handle_unknown='ignore'),\n",
       "                                                                         ['X0',\n",
       "                                                                          'X1',\n",
       "                                                                          'X2',\n",
       "                                                                          'X3',\n",
       "                                                                          'X4',\n",
       "                                                                          'X5',\n",
       "                                                                          'X6',\n",
       "                                                                          'X8'])])),\n",
       "                                       ('selection',\n",
       "                                        SelectKBest(k=30,\n",
       "                                                    score_func=<function get_abs_corr_coef at 0x000001AB351F55E0>)),\n",
       "                                       ('estimator', Ridge(random_state=0))]),\n",
       "             param_grid={'estimator__alpha': array([1.e-04, 1.e-03, 1.e-02, 1.e-01, 1.e+00, 1.e+01, 1.e+02, 1.e+03,\n",
       "       1.e+04])},\n",
       "             scoring='r2')"
      ]
     },
     "execution_count": 27,
     "metadata": {},
     "output_type": "execute_result"
    }
   ],
   "source": [
    "# define 'GridSearchCV' object\n",
    "grid_cv_k_best = GridSearchCV(model_k_best, param_grid=param_grid, cv=3, scoring='r2')\n",
    "\n",
    "# fit pipeline\n",
    "grid_cv_k_best.fit(X_tr, y_tr)"
   ]
  },
  {
   "cell_type": "code",
   "execution_count": 28,
   "id": "45de674f",
   "metadata": {},
   "outputs": [],
   "source": [
    "# TEST grid_cv model\n",
    "assert \"estimator__alpha\" in grid_cv.param_grid\n",
    "assert \"estimator__alpha\" in grid_cv_k_best.param_grid\n",
    "assert grid_cv.scoring == 'r2'\n",
    "assert grid_cv_k_best.scoring == 'r2'\n"
   ]
  },
  {
   "cell_type": "markdown",
   "id": "69b8e793",
   "metadata": {},
   "source": [
    "\n",
    "- Plot the dependence of the models' validation performances on the alpha value and visually compare how the quality of each model depends on the regularization degree."
   ]
  },
  {
   "cell_type": "code",
   "execution_count": 29,
   "id": "1a1260f7",
   "metadata": {},
   "outputs": [
    {
     "name": "stdout",
     "output_type": "stream",
     "text": [
      "scores without feature selection: [0.46162149 0.46192181 0.46463477 0.47866403 0.50347733 0.52628159\n",
      " 0.52725525 0.45103181 0.17994926]\n",
      "scores_k_best with feature selection: [0.52936934 0.529371   0.52938651 0.52945436 0.52818424 0.52207812\n",
      " 0.50552977 0.42270159 0.13562014]\n"
     ]
    },
    {
     "data": {
      "image/png": "[encoded data removed]",
      "text/plain": [
       "<Figure size 432x288 with 1 Axes>"
      ]
     },
     "metadata": {
      "needs_background": "light"
     },
     "output_type": "display_data"
    },
    {
     "name": "stdout",
     "output_type": "stream",
     "text": [
      "Without feature selection:\n",
      "Optimal alpha  = 100.0000\n",
      "Optimal R2 score = 0.5273\n",
      "\n",
      "With feature selection:\n",
      "Optimal alpha  = 0.1000\n",
      "Optimal R2 score = 0.5295\n"
     ]
    }
   ],
   "source": [
    "scores = grid_cv.cv_results_['mean_test_score']\n",
    "print(f'scores without feature selection: {scores}')\n",
    "plt.plot(alphas, scores, label=\"without feature selection\")\n",
    "scores_k_best = grid_cv_k_best.cv_results_['mean_test_score']\n",
    "print(f'scores_k_best with feature selection: {scores_k_best}')\n",
    "plt.plot(alphas, scores_k_best, label=\"with feature selection\")\n",
    "\n",
    "plt.xscale(\"log\")\n",
    "plt.xlabel(\"alpha\")\n",
    "plt.ylabel(\"CV score\")\n",
    "plt.grid()\n",
    "plt.legend()\n",
    "plt.show()\n",
    "\n",
    "print(\"Without feature selection:\")\n",
    "print(\"Optimal alpha  = %.4f\" % grid_cv.best_params_['estimator__alpha'])\n",
    "print(\"Optimal R2 score = %.4f\" % grid_cv.best_score_)\n",
    "print()\n",
    "print(\"With feature selection:\")\n",
    "print(\"Optimal alpha  = %.4f\" % grid_cv_k_best.best_params_['estimator__alpha'])\n",
    "print(\"Optimal R2 score = %.4f\" % grid_cv_k_best.best_score_)"
   ]
  },
  {
   "cell_type": "markdown",
   "id": "d5b70ddf",
   "metadata": {},
   "source": [
    "- Select the better model, fix the optimal value of the regularization coefficient, fit it on the training set, and estimate its performance on the test set `X_te`. "
   ]
  },
  {
   "cell_type": "code",
   "execution_count": 30,
   "id": "7a55a7aa",
   "metadata": {},
   "outputs": [
    {
     "name": "stdout",
     "output_type": "stream",
     "text": [
      "Train R2 = 0.57\n",
      "Test R2 = 0.59\n"
     ]
    }
   ],
   "source": [
    "model = grid_cv.best_estimator_\n",
    "R2_tr, R2_te = evaluate_model(model, X_tr, y_tr, X_te, y_te)\n",
    "\n",
    "print(\"Train R2 = %.2f\" % R2_tr)\n",
    "print(\"Test R2 = %.2f\" % R2_te)"
   ]
  },
  {
   "cell_type": "code",
   "execution_count": 31,
   "id": "2b8f67b2",
   "metadata": {},
   "outputs": [
    {
     "name": "stdout",
     "output_type": "stream",
     "text": [
      "Train R2 = 0.54\n",
      "Test R2 = 0.59\n"
     ]
    }
   ],
   "source": [
    "model = grid_cv_k_best.best_estimator_\n",
    "R2_tr, R2_te = evaluate_model(model, X_tr, y_tr, X_te, y_te)\n",
    "\n",
    "print(\"Train R2 = %.2f\" % R2_tr)\n",
    "print(\"Test R2 = %.2f\" % R2_te)"
   ]
  },
  {
   "cell_type": "markdown",
   "id": "08560340",
   "metadata": {},
   "source": [
    "Also, we can perform the search of optimal number of selected features `k`. However, the optimal strength of regularization will also depend on the number of selected features, since models with larger number of features usually need stronger regularization. Thus, it is a good idea to perform grid search for two these parameters simultaneously.\n",
    "\n",
    "Also, we can still assume that some of the features generated by the one-hot encoding of categorical variables are redundant. In this case, you may want to use a $l_1$ -regularization, which is more likely to assign exactly zero weights to insignificant variables. Thus, an internal feature selection by importance is performed, and the final model depends on a smaller number of variables.\n",
    "\n",
    "Among `sklearn.linear_models`, you can find implementation of the regression models with $l_1$ regularization (`Lasso`), $l_2$ regularization (`Ridge`), as well as their combination (`ElasticNet`)."
   ]
  },
  {
   "cell_type": "markdown",
   "id": "13bcea8c",
   "metadata": {},
   "source": [
    "---\n",
    "**Step 2.2**\n",
    "\n",
    "Perform grid search for 2 hyperparameters to find both optimal **regularization coefficient** value (`alpha`) and **number of features** ($k$) for the pipeline with univariate feature selection (`model_k_best` from step 1.4).\n",
    "\n",
    "Blow we define:\n",
    "- `alphas` - list of regularization coefficient to search through. \n",
    "- `ks` - list of number of features values to search through.\n",
    "\n",
    "Your task:\n",
    "- Create `grid_cv_k_best` \n",
    "    - `GridSearchCV` object\n",
    "    - Use `alphas` and `ks` to define parameter grid for estimator and feature selector\n",
    "\n",
    "- Fit `grid_cv_k_best` on the whole training set `X_tr`. Optimize $R^2$-score on 3-fold cross-validation. "
   ]
  },
  {
   "cell_type": "code",
   "execution_count": 32,
   "id": "7b56bd6a",
   "metadata": {},
   "outputs": [],
   "source": [
    "model_k_best.set_params(estimator__random_state=0);\n",
    "alphas = np.logspace(-4, 4, 9)\n",
    "ks = np.arange(20, 310, 30)\n",
    "param_grid = {\n",
    "    \"estimator__alpha\": alphas,\n",
    "    \"selection__k\": ks\n",
    "}"
   ]
  },
  {
   "cell_type": "code",
   "execution_count": 33,
   "id": "62724bd8",
   "metadata": {
    "scrolled": false
   },
   "outputs": [
    {
     "data": {
      "text/plain": [
       "GridSearchCV(cv=3,\n",
       "             estimator=Pipeline(steps=[('transform',\n",
       "                                        ColumnTransformer(remainder='passthrough',\n",
       "                                                          transformers=[('ohenc',\n",
       "                                                                         OneHotEncoder(handle_unknown='ignore'),\n",
       "                                                                         ['X0',\n",
       "                                                                          'X1',\n",
       "                                                                          'X2',\n",
       "                                                                          'X3',\n",
       "                                                                          'X4',\n",
       "                                                                          'X5',\n",
       "                                                                          'X6',\n",
       "                                                                          'X8'])])),\n",
       "                                       ('selection',\n",
       "                                        SelectKBest(k=30,\n",
       "                                                    score_func=<function get_abs_corr_coef at 0x000001AB351F55E0>)),\n",
       "                                       ('estimator', Ridge(random_state=0))]),\n",
       "             param_grid={'estimator__alpha': array([1.e-04, 1.e-03, 1.e-02, 1.e-01, 1.e+00, 1.e+01, 1.e+02, 1.e+03,\n",
       "       1.e+04]),\n",
       "                         'selection__k': array([ 20,  50,  80, 110, 140, 170, 200, 230, 260, 290])},\n",
       "             scoring='r2')"
      ]
     },
     "execution_count": 33,
     "metadata": {},
     "output_type": "execute_result"
    }
   ],
   "source": [
    "# define 'GridSearchCV' object\n",
    "grid_cv_k_best = GridSearchCV(model_k_best, param_grid=param_grid, cv=3, scoring='r2')\n",
    "\n",
    "# fit pipeline\n",
    "grid_cv_k_best.fit(X_tr, y_tr)"
   ]
  },
  {
   "cell_type": "code",
   "execution_count": 34,
   "id": "080dcc25",
   "metadata": {},
   "outputs": [
    {
     "name": "stdout",
     "output_type": "stream",
     "text": [
      "Best pipeline:\n",
      "('transform', ColumnTransformer(remainder='passthrough',\n",
      "                  transformers=[('ohenc',\n",
      "                                 OneHotEncoder(handle_unknown='ignore'),\n",
      "                                 ['X0', 'X1', 'X2', 'X3', 'X4', 'X5', 'X6',\n",
      "                                  'X8'])]))\n",
      "('selection', SelectKBest(k=80, score_func=<function get_abs_corr_coef at 0x000001AB351F55E0>))\n",
      "('estimator', Ridge(random_state=0))\n"
     ]
    }
   ],
   "source": [
    "print('Best pipeline:')\n",
    "print(grid_cv_k_best.best_estimator_.steps[0])\n",
    "print(grid_cv_k_best.best_estimator_.steps[1])\n",
    "print(grid_cv_k_best.best_estimator_.steps[2])\n"
   ]
  },
  {
   "cell_type": "code",
   "execution_count": 35,
   "id": "904efc2f",
   "metadata": {},
   "outputs": [
    {
     "data": {
      "image/png": "[encoded data removed]",
      "text/plain": [
       "<Figure size 432x288 with 2 Axes>"
      ]
     },
     "metadata": {
      "needs_background": "light"
     },
     "output_type": "display_data"
    },
    {
     "name": "stdout",
     "output_type": "stream",
     "text": [
      "Optimal alpha  = 1.0000\n",
      "Optimal number of features  = 80.0000\n",
      "Optimal R2 score = 0.5413\n"
     ]
    }
   ],
   "source": [
    "scores = grid_cv_k_best.cv_results_['mean_test_score']\n",
    "heatmap = plt.pcolor(scores.reshape(len(alphas), len(ks)), cmap=\"RdYlGn\")\n",
    "plt.colorbar(heatmap)\n",
    "plt.xticks(np.arange(len(ks)) + 0.5, ks)\n",
    "plt.xlabel(\"number of features\")\n",
    "plt.yticks(np.arange(len(alphas)) + 0.5, alphas)\n",
    "plt.ylabel(\"alpha\")\n",
    "plt.show()\n",
    "\n",
    "print(\"Optimal alpha  = %.4f\" % grid_cv_k_best.best_estimator_.steps[2][1].alpha)\n",
    "print(\"Optimal number of features  = %.4f\" % grid_cv_k_best.best_estimator_.steps[1][1].k)\n",
    "print(\"Optimal R2 score = %.4f\" % grid_cv_k_best.best_score_)"
   ]
  },
  {
   "cell_type": "code",
   "execution_count": 36,
   "id": "f4c9bf28",
   "metadata": {},
   "outputs": [
    {
     "name": "stdout",
     "output_type": "stream",
     "text": [
      "Train R2 = 0.56\n",
      "Test R2 = 0.61\n"
     ]
    }
   ],
   "source": [
    "# fit the best model and evaluate performance on test set\n",
    "best_model = grid_cv_k_best.best_estimator_\n",
    "R2_tr, R2_te = evaluate_model(best_model, X_tr, y_tr, X_te, y_te)\n",
    "print(\"Train R2 = %.2f\" % R2_tr)\n",
    "print(\"Test R2 = %.2f\" % R2_te)"
   ]
  },
  {
   "cell_type": "code",
   "execution_count": null,
   "id": "05d7c104",
   "metadata": {},
   "outputs": [],
   "source": []
  }
 ],
 "metadata": {
  "kernelspec": {
   "display_name": "Python 3",
   "language": "python",
   "name": "python3"
  },
  "language_info": {
   "codemirror_mode": {
    "name": "ipython",
    "version": 3
   },
   "file_extension": ".py",
   "mimetype": "text/x-python",
   "name": "python",
   "nbconvert_exporter": "python",
   "pygments_lexer": "ipython3",
   "version": "3.8.8"
  }
 },
 "nbformat": 4,
 "nbformat_minor": 5
}
