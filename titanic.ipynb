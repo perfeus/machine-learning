{
 "cells": [
  {
   "cell_type": "code",
   "execution_count": 1,
   "id": "81271809",
   "metadata": {},
   "outputs": [],
   "source": [
    "import numpy as np\n",
    "import pandas as pd\n",
    "import matplotlib.pyplot as plt\n",
    "\n",
    "# import warnings\n",
    "# warnings.filterwarnings('ignore')\n",
    "\n",
    "%matplotlib inline"
   ]
  },
  {
   "cell_type": "markdown",
   "id": "5e727598",
   "metadata": {},
   "source": [
    "# Table of Contents:\n",
    "* [Part1.](#part1) EDA and Feature Engineering\n",
    "    - [Explore the Target Variable](#target)\n",
    "    - [Categorical Features](#cat_features)\n",
    "        - [Step 1](#task1)\n",
    "        - [Step 2](#task2)\n",
    "        - [Step 3](#task3)\n",
    "        - [Step 4](#task4)\n",
    "        - [Step 5](#task5)\n",
    "    - [Ordinal and numeric features](#rest_features)\n",
    "        - [Step 6](#task6)\n",
    "        - [Step 7](#task7)\n",
    "        - [Step 8](#task8)\n",
    "        - [Step 9](#task9)\n",
    "    - [Missing values](#na)\n",
    "        - [Step 10](#task10)\n",
    "        - [Step 11](#task11)\n",
    "    - [Columns transformers](#columns)\n",
    "        - [Step 12](#task12)\n",
    "    - [Train-test split](#train_test)\n",
    "* [Part2](#part2). Training, comparing and testing models\n",
    "    - [Step 13](#task13)\n",
    "    - [Step 14](#task14)\n",
    "    - [Step 15](#task15)"
   ]
  },
  {
   "cell_type": "markdown",
   "id": "3a3edacc",
   "metadata": {},
   "source": [
    "# Part 1. Exploratory Data Analysis (EDA) and Feature Engineering <a class=\"anchor\" id=\"part1\"></a>\n",
    "\n",
    "\n",
    "### The goal\n",
    "Explore the data, fix NAs, check if there are some mistakes and outliers, preprocess and select relevant features before fitting the model.\n"
   ]
  },
  {
   "cell_type": "markdown",
   "id": "c9866036",
   "metadata": {},
   "source": [
    "## Explore the dataset and the task\n",
    "\n",
    "Below you can find the dataset, which you will be working with in this assignment. It contains information about the passangers of the Titanic. The target variable that we are going to predict is `Survived`. It is a binary variable which indicates whether a given passenger survived in the Titanic catastroph."
   ]
  },
  {
   "cell_type": "code",
   "execution_count": 2,
   "id": "935faeb5",
   "metadata": {},
   "outputs": [
    {
     "data": {
      "text/html": [
       "<div>\n",
       "<style scoped>\n",
       "    .dataframe tbody tr th:only-of-type {\n",
       "        vertical-align: middle;\n",
       "    }\n",
       "\n",
       "    .dataframe tbody tr th {\n",
       "        vertical-align: top;\n",
       "    }\n",
       "\n",
       "    .dataframe thead th {\n",
       "        text-align: right;\n",
       "    }\n",
       "</style>\n",
       "<table border=\"1\" class=\"dataframe\">\n",
       "  <thead>\n",
       "    <tr style=\"text-align: right;\">\n",
       "      <th></th>\n",
       "      <th>PassengerId</th>\n",
       "      <th>Survived</th>\n",
       "      <th>Pclass</th>\n",
       "      <th>Name</th>\n",
       "      <th>Sex</th>\n",
       "      <th>Age</th>\n",
       "      <th>SibSp</th>\n",
       "      <th>Parch</th>\n",
       "      <th>Ticket</th>\n",
       "      <th>Fare</th>\n",
       "      <th>Cabin</th>\n",
       "      <th>Embarked</th>\n",
       "    </tr>\n",
       "  </thead>\n",
       "  <tbody>\n",
       "    <tr>\n",
       "      <th>0</th>\n",
       "      <td>1</td>\n",
       "      <td>0</td>\n",
       "      <td>3</td>\n",
       "      <td>Braund, Mr. Owen Harris</td>\n",
       "      <td>male</td>\n",
       "      <td>22.0</td>\n",
       "      <td>1</td>\n",
       "      <td>0</td>\n",
       "      <td>A/5 21171</td>\n",
       "      <td>7.2500</td>\n",
       "      <td>NaN</td>\n",
       "      <td>S</td>\n",
       "    </tr>\n",
       "    <tr>\n",
       "      <th>1</th>\n",
       "      <td>2</td>\n",
       "      <td>1</td>\n",
       "      <td>1</td>\n",
       "      <td>Cumings, Mrs. John Bradley (Florence Briggs Th...</td>\n",
       "      <td>female</td>\n",
       "      <td>38.0</td>\n",
       "      <td>1</td>\n",
       "      <td>0</td>\n",
       "      <td>PC 17599</td>\n",
       "      <td>71.2833</td>\n",
       "      <td>C85</td>\n",
       "      <td>C</td>\n",
       "    </tr>\n",
       "    <tr>\n",
       "      <th>2</th>\n",
       "      <td>3</td>\n",
       "      <td>1</td>\n",
       "      <td>3</td>\n",
       "      <td>Heikkinen, Miss. Laina</td>\n",
       "      <td>female</td>\n",
       "      <td>26.0</td>\n",
       "      <td>0</td>\n",
       "      <td>0</td>\n",
       "      <td>STON/O2. 3101282</td>\n",
       "      <td>7.9250</td>\n",
       "      <td>NaN</td>\n",
       "      <td>S</td>\n",
       "    </tr>\n",
       "    <tr>\n",
       "      <th>3</th>\n",
       "      <td>4</td>\n",
       "      <td>1</td>\n",
       "      <td>1</td>\n",
       "      <td>Futrelle, Mrs. Jacques Heath (Lily May Peel)</td>\n",
       "      <td>female</td>\n",
       "      <td>35.0</td>\n",
       "      <td>1</td>\n",
       "      <td>0</td>\n",
       "      <td>113803</td>\n",
       "      <td>53.1000</td>\n",
       "      <td>C123</td>\n",
       "      <td>S</td>\n",
       "    </tr>\n",
       "    <tr>\n",
       "      <th>4</th>\n",
       "      <td>5</td>\n",
       "      <td>0</td>\n",
       "      <td>3</td>\n",
       "      <td>Allen, Mr. William Henry</td>\n",
       "      <td>male</td>\n",
       "      <td>35.0</td>\n",
       "      <td>0</td>\n",
       "      <td>0</td>\n",
       "      <td>373450</td>\n",
       "      <td>8.0500</td>\n",
       "      <td>NaN</td>\n",
       "      <td>S</td>\n",
       "    </tr>\n",
       "  </tbody>\n",
       "</table>\n",
       "</div>"
      ],
      "text/plain": [
       "   PassengerId  Survived  Pclass  \\\n",
       "0            1         0       3   \n",
       "1            2         1       1   \n",
       "2            3         1       3   \n",
       "3            4         1       1   \n",
       "4            5         0       3   \n",
       "\n",
       "                                                Name     Sex   Age  SibSp  \\\n",
       "0                            Braund, Mr. Owen Harris    male  22.0      1   \n",
       "1  Cumings, Mrs. John Bradley (Florence Briggs Th...  female  38.0      1   \n",
       "2                             Heikkinen, Miss. Laina  female  26.0      0   \n",
       "3       Futrelle, Mrs. Jacques Heath (Lily May Peel)  female  35.0      1   \n",
       "4                           Allen, Mr. William Henry    male  35.0      0   \n",
       "\n",
       "   Parch            Ticket     Fare Cabin Embarked  \n",
       "0      0         A/5 21171   7.2500   NaN        S  \n",
       "1      0          PC 17599  71.2833   C85        C  \n",
       "2      0  STON/O2. 3101282   7.9250   NaN        S  \n",
       "3      0            113803  53.1000  C123        S  \n",
       "4      0            373450   8.0500   NaN        S  "
      ]
     },
     "execution_count": 2,
     "metadata": {},
     "output_type": "execute_result"
    }
   ],
   "source": [
    "titanic = pd.read_csv('https://github.com/mbburova/MDS/raw/main/titanic.csv')\n",
    "titanic.head()"
   ]
  },
  {
   "cell_type": "code",
   "execution_count": 3,
   "id": "9a02055a",
   "metadata": {},
   "outputs": [
    {
     "name": "stdout",
     "output_type": "stream",
     "text": [
      "<class 'pandas.core.frame.DataFrame'>\n",
      "RangeIndex: 891 entries, 0 to 890\n",
      "Data columns (total 12 columns):\n",
      " #   Column       Non-Null Count  Dtype  \n",
      "---  ------       --------------  -----  \n",
      " 0   PassengerId  891 non-null    int64  \n",
      " 1   Survived     891 non-null    int64  \n",
      " 2   Pclass       891 non-null    int64  \n",
      " 3   Name         891 non-null    object \n",
      " 4   Sex          891 non-null    object \n",
      " 5   Age          714 non-null    float64\n",
      " 6   SibSp        891 non-null    int64  \n",
      " 7   Parch        891 non-null    int64  \n",
      " 8   Ticket       891 non-null    object \n",
      " 9   Fare         891 non-null    float64\n",
      " 10  Cabin        204 non-null    object \n",
      " 11  Embarked     889 non-null    object \n",
      "dtypes: float64(2), int64(5), object(5)\n",
      "memory usage: 83.7+ KB\n"
     ]
    }
   ],
   "source": [
    "titanic.info()"
   ]
  },
  {
   "cell_type": "markdown",
   "id": "6885116b",
   "metadata": {},
   "source": [
    "We have data for Titanic passengers, the goal is to predict the column `Survived`."
   ]
  },
  {
   "cell_type": "markdown",
   "id": "258441b6",
   "metadata": {},
   "source": [
    "## Explore the target\n",
    "\n",
    "To begin with, let me plot the barplot for the traget variable. It is very convenient to use wrapper around `matplotlib` provided by `pandas`. You can read about it [here](https://pandas.pydata.org/pandas-docs/stable/user_guide/cookbook.html#cookbook-plotting)."
   ]
  },
  {
   "cell_type": "code",
   "execution_count": 4,
   "id": "40809add",
   "metadata": {},
   "outputs": [
    {
     "name": "stdout",
     "output_type": "stream",
     "text": [
      "0    549\n",
      "1    342\n",
      "Name: Survived, dtype: int64\n"
     ]
    },
    {
     "data": {
      "image/png": "[encoded data removed]",
      "text/plain": [
       "<Figure size 432x288 with 1 Axes>"
      ]
     },
     "metadata": {
      "needs_background": "light"
     },
     "output_type": "display_data"
    }
   ],
   "source": [
    "print(titanic.Survived.value_counts())\n",
    "titanic.Survived.value_counts().plot(kind='bar')\n",
    "plt.grid()\n",
    "plt.title('Distirbution of the target variable');"
   ]
  },
  {
   "cell_type": "markdown",
   "id": "581b8af8",
   "metadata": {},
   "source": [
    "---\n",
    "## 1.1 Explore categorical features\n",
    "\n",
    "\n",
    "We will start from creating a new feature called `Title`. By the title I mean the name prefix, such as `Mr`, `Miss`, `Dr` etc. It may tell us a lot about age or family status of the passenger even if this information is missing from the dataset. \n",
    "\n",
    "Let us take a look at some of the `Name` values. You can see that for each passenger name is organised as: \n",
    "\n",
    "```\n",
    "Surname, Title. Name\n",
    "```"
   ]
  },
  {
   "cell_type": "code",
   "execution_count": 5,
   "id": "37b7477a",
   "metadata": {},
   "outputs": [
    {
     "data": {
      "text/plain": [
       "0                              Braund, Mr. Owen Harris\n",
       "1    Cumings, Mrs. John Bradley (Florence Briggs Th...\n",
       "2                               Heikkinen, Miss. Laina\n",
       "3         Futrelle, Mrs. Jacques Heath (Lily May Peel)\n",
       "4                             Allen, Mr. William Henry\n",
       "Name: Name, dtype: object"
      ]
     },
     "execution_count": 5,
     "metadata": {},
     "output_type": "execute_result"
    }
   ],
   "source": [
    "titanic.Name[:5]"
   ]
  },
  {
   "cell_type": "markdown",
   "id": "cf68b523",
   "metadata": {},
   "source": [
    "---\n",
    "**<ins>Step 1:</ins>** Add a new column `Title` to the `titanic` dataframe.\n",
    "\n",
    "*Hints:* \n",
    "1. We need to extract part of the string from each value of the `Name` column\n",
    "2. `pandas.Series.str` has wide variaty of vectorized string functions. That is, if you run `titanic.Name.str.useful_function()`, then `useful_function()` will be applied to each element of the column `Name`. Take a look at the [documentation](https://pandas.pydata.org/pandas-docs/stable/reference/api/pandas.Series.str.html) for more details and the list of \"useful functions\".\n",
    "3. We'll likelily need to apply regular expressions (but it is also to possible to do the task without it). Do not worry, it is nothing sophisticated. Here is all we need to know:\n",
    " * `[a-zA-Z]` - refers to any letter \n",
    " * `\\.` - refers to the dot\n",
    " * `\\,` - refers to the comma\n",
    " * `+` - means that the element repeats 1 or more times. E.g. `\\.+` means 1 or more dots\n",
    " * `\\s` - refers to any spacing sign \n",
    "4. Extract the title without the dot that goes after it"
   ]
  },
  {
   "cell_type": "code",
   "execution_count": 6,
   "id": "eb7c799f",
   "metadata": {},
   "outputs": [],
   "source": [
    "import re\n",
    "titanic['Title'] = titanic['Name'].apply(lambda x: re.compile(\"[A-Z][a-z]+\\.\").findall(x)[0][:-1])"
   ]
  },
  {
   "cell_type": "code",
   "execution_count": 7,
   "id": "a4cc8740",
   "metadata": {},
   "outputs": [
    {
     "data": {
      "text/plain": [
       "Mr          517\n",
       "Miss        182\n",
       "Mrs         125\n",
       "Master       40\n",
       "Dr            7\n",
       "Rev           6\n",
       "Mlle          2\n",
       "Major         2\n",
       "Col           2\n",
       "Countess      1\n",
       "Jonkheer      1\n",
       "Mme           1\n",
       "Sir           1\n",
       "Don           1\n",
       "Lady          1\n",
       "Capt          1\n",
       "Ms            1\n",
       "Name: Title, dtype: int64"
      ]
     },
     "execution_count": 7,
     "metadata": {},
     "output_type": "execute_result"
    }
   ],
   "source": [
    "titanic.Title.value_counts()"
   ]
  },
  {
   "cell_type": "markdown",
   "id": "57173ee5",
   "metadata": {},
   "source": [
    "We can see that some titles are very rare, which makes their usefulness questionable. I will now combine all the titles which has 6 or less observations into one category called `Other`.\n",
    "\n",
    "---\n",
    "**<ins>Step 2:</ins>** Let's create a vector `proper_titles` which contains all titles with > 6 observations. For all the passengers, who have title not from the `proper_titles` list, rename their `Title` to `Other`."
   ]
  },
  {
   "cell_type": "code",
   "execution_count": 8,
   "id": "1771c393",
   "metadata": {},
   "outputs": [
    {
     "data": {
      "text/plain": [
       "['Mr', 'Miss', 'Mrs', 'Master', 'Dr']"
      ]
     },
     "execution_count": 8,
     "metadata": {},
     "output_type": "execute_result"
    }
   ],
   "source": [
    "proper_titles = titanic['Title'].value_counts(dropna=False)\n",
    "proper_titles = list(proper_titles[proper_titles > 6].index)\n",
    "proper_titles"
   ]
  },
  {
   "cell_type": "code",
   "execution_count": 9,
   "id": "9000ea59",
   "metadata": {},
   "outputs": [],
   "source": [
    "titanic['Title'] = titanic['Title'].apply(lambda x: x if x in proper_titles else \"Other\")"
   ]
  },
  {
   "cell_type": "code",
   "execution_count": 10,
   "id": "46363247",
   "metadata": {},
   "outputs": [
    {
     "name": "stdout",
     "output_type": "stream",
     "text": [
      "Mr        517\n",
      "Miss      182\n",
      "Mrs       125\n",
      "Master     40\n",
      "Other      20\n",
      "Dr          7\n",
      "Name: Title, dtype: int64\n"
     ]
    }
   ],
   "source": [
    "print(titanic.Title.value_counts(dropna=False))"
   ]
  },
  {
   "cell_type": "markdown",
   "id": "60864379",
   "metadata": {},
   "source": [
    "---\n",
    "**<ins>Step 3:</ins>** Let's obtain the list of all the categorical columns (columns with data type `object`). Name this list `categ_columns`."
   ]
  },
  {
   "cell_type": "code",
   "execution_count": 11,
   "id": "59ae8f69",
   "metadata": {},
   "outputs": [
    {
     "name": "stdout",
     "output_type": "stream",
     "text": [
      "Number of categorical features = 6\n",
      "['Name', 'Sex', 'Ticket', 'Cabin', 'Embarked', 'Title']\n"
     ]
    }
   ],
   "source": [
    "categ_columns = titanic.columns[titanic.dtypes == \"object\"].tolist()\n",
    "print(\"Number of categorical features =\", len(categ_columns))\n",
    "print(categ_columns)"
   ]
  },
  {
   "cell_type": "markdown",
   "id": "4f0f713e",
   "metadata": {},
   "source": [
    "Let us explore these categorical features in more details. We will use method `describe` to obtain some statistics about them. "
   ]
  },
  {
   "cell_type": "code",
   "execution_count": 12,
   "id": "7cd45474",
   "metadata": {},
   "outputs": [
    {
     "data": {
      "text/html": [
       "<div>\n",
       "<style scoped>\n",
       "    .dataframe tbody tr th:only-of-type {\n",
       "        vertical-align: middle;\n",
       "    }\n",
       "\n",
       "    .dataframe tbody tr th {\n",
       "        vertical-align: top;\n",
       "    }\n",
       "\n",
       "    .dataframe thead th {\n",
       "        text-align: right;\n",
       "    }\n",
       "</style>\n",
       "<table border=\"1\" class=\"dataframe\">\n",
       "  <thead>\n",
       "    <tr style=\"text-align: right;\">\n",
       "      <th></th>\n",
       "      <th>Name</th>\n",
       "      <th>Sex</th>\n",
       "      <th>Ticket</th>\n",
       "      <th>Cabin</th>\n",
       "      <th>Embarked</th>\n",
       "      <th>Title</th>\n",
       "    </tr>\n",
       "  </thead>\n",
       "  <tbody>\n",
       "    <tr>\n",
       "      <th>count</th>\n",
       "      <td>891</td>\n",
       "      <td>891</td>\n",
       "      <td>891</td>\n",
       "      <td>204</td>\n",
       "      <td>889</td>\n",
       "      <td>891</td>\n",
       "    </tr>\n",
       "    <tr>\n",
       "      <th>unique</th>\n",
       "      <td>891</td>\n",
       "      <td>2</td>\n",
       "      <td>681</td>\n",
       "      <td>147</td>\n",
       "      <td>3</td>\n",
       "      <td>6</td>\n",
       "    </tr>\n",
       "    <tr>\n",
       "      <th>top</th>\n",
       "      <td>Carter, Master. William Thornton II</td>\n",
       "      <td>male</td>\n",
       "      <td>CA. 2343</td>\n",
       "      <td>B96 B98</td>\n",
       "      <td>S</td>\n",
       "      <td>Mr</td>\n",
       "    </tr>\n",
       "    <tr>\n",
       "      <th>freq</th>\n",
       "      <td>1</td>\n",
       "      <td>577</td>\n",
       "      <td>7</td>\n",
       "      <td>4</td>\n",
       "      <td>644</td>\n",
       "      <td>517</td>\n",
       "    </tr>\n",
       "  </tbody>\n",
       "</table>\n",
       "</div>"
      ],
      "text/plain": [
       "                                       Name   Sex    Ticket    Cabin Embarked  \\\n",
       "count                                   891   891       891      204      889   \n",
       "unique                                  891     2       681      147        3   \n",
       "top     Carter, Master. William Thornton II  male  CA. 2343  B96 B98        S   \n",
       "freq                                      1   577         7        4      644   \n",
       "\n",
       "       Title  \n",
       "count    891  \n",
       "unique     6  \n",
       "top       Mr  \n",
       "freq     517  "
      ]
     },
     "execution_count": 12,
     "metadata": {},
     "output_type": "execute_result"
    }
   ],
   "source": [
    "titanic[categ_columns].describe(include='object')"
   ]
  },
  {
   "cell_type": "markdown",
   "id": "ee4f0828",
   "metadata": {},
   "source": [
    "Sometimes, categorical columns contain too many unique values, which do not have a lot of information about the task we are solving. There are cases, when it is possible to extract some useful details from such variables (as we just did with the `Name`). But if you can't it might be better to drop such variable. \n",
    "\n",
    "\n",
    "---\n",
    "**<ins>Step 4:</ins>** Remove all the categorical features, which have more than 100 unique values. \n",
    "\n",
    "P.S. Remove the corresponding columns from the dataframe `titanic` and unpdate list of categorical feature `categ_columns` to contain only categorical features that are left. "
   ]
  },
  {
   "cell_type": "code",
   "execution_count": 13,
   "id": "04dc3bcd",
   "metadata": {},
   "outputs": [
    {
     "name": "stdout",
     "output_type": "stream",
     "text": [
      "['Name', 'Ticket', 'Cabin']\n",
      "['Sex', 'Embarked', 'Title']\n"
     ]
    }
   ],
   "source": [
    "columns_to_drop = [el for el in categ_columns if titanic[el].unique().size > 100]\n",
    "categ_columns = [el for el in categ_columns if titanic[el].unique().size <= 100]\n",
    "\n",
    "print(columns_to_drop)\n",
    "print(categ_columns)"
   ]
  },
  {
   "cell_type": "code",
   "execution_count": 14,
   "id": "0c8e2c47",
   "metadata": {},
   "outputs": [
    {
     "name": "stdout",
     "output_type": "stream",
     "text": [
      "Number of categorical features = 3\n"
     ]
    }
   ],
   "source": [
    "titanic.drop(columns_to_drop, axis=1, inplace=True)\n",
    "\n",
    "print(\"Number of categorical features =\", len(categ_columns))"
   ]
  },
  {
   "cell_type": "markdown",
   "id": "0c7ab285",
   "metadata": {},
   "source": [
    "Let's consider distribution of all the categorical features now\n",
    "\n",
    "---\n",
    "**<ins>Step 5:</ins>** For each categorical feature I'm going draw two bar plots side by side. On the first plot, height of the bar should depict number of passengers in each category, while on the second, height of the bar should depict propostion of survived passengers in the category. "
   ]
  },
  {
   "cell_type": "code",
   "execution_count": 15,
   "id": "1fe5fc04",
   "metadata": {},
   "outputs": [
    {
     "data": {
      "image/png": "[encoded data removed]",
      "text/plain": [
       "<Figure size 1440x432 with 2 Axes>"
      ]
     },
     "metadata": {
      "needs_background": "light"
     },
     "output_type": "display_data"
    }
   ],
   "source": [
    "titanic.Sex.value_counts()\n",
    "ratio_sex = titanic[titanic[\"Survived\"] == 1][\"Sex\"].value_counts() / titanic[\"Sex\"].value_counts(ascending=True)\n",
    "\n",
    "\n",
    "fig, ax = plt.subplots(ncols=2, figsize=(20, 6))\n",
    "fig.suptitle(\"Sex\", fontsize=40)\n",
    "\n",
    "ax[0].bar(titanic['Sex'].value_counts(ascending=False).index, titanic['Sex'].value_counts())\n",
    "ax[0].set_ylabel(\"Num. passengers\", fontsize=20)\n",
    "ax[0].tick_params(axis='x', labelsize=20)\n",
    "ax[0].grid()\n",
    "\n",
    "ax[1].bar(ratio_sex.index, ratio_sex);\n",
    "ax[1].set_ylabel(\"Prop. survived\", fontsize=20)\n",
    "ax[1].tick_params(axis='x', labelsize=20)\n",
    "ax[1].grid()"
   ]
  },
  {
   "cell_type": "code",
   "execution_count": 16,
   "id": "803341c5",
   "metadata": {},
   "outputs": [
    {
     "data": {
      "image/png": "[encoded data removed]",
      "text/plain": [
       "<Figure size 1440x432 with 2 Axes>"
      ]
     },
     "metadata": {
      "needs_background": "light"
     },
     "output_type": "display_data"
    }
   ],
   "source": [
    "titanic.Embarked.value_counts()\n",
    "ratio_embarked = titanic[titanic[\"Survived\"] == 1][\"Embarked\"].value_counts() / titanic[\"Embarked\"].value_counts()\n",
    "ratio_embarked = ratio_embarked.sort_values(ascending=False)\n",
    "\n",
    "\n",
    "fig, ax = plt.subplots(ncols=2, figsize=(20, 6))\n",
    "fig.suptitle(\"Embarked\", fontsize=40)\n",
    "\n",
    "ax[0].bar(titanic['Embarked'].value_counts().index, titanic['Embarked'].value_counts())\n",
    "ax[0].set_ylabel(\"Num. passengers\", fontsize=20)\n",
    "ax[0].tick_params(axis='x', labelsize=20)\n",
    "ax[0].grid()\n",
    "\n",
    "ax[1].bar(ratio_embarked.index, ratio_embarked);\n",
    "ax[1].set_ylabel(\"Prop. survived\", fontsize=20)\n",
    "ax[1].tick_params(axis='x', labelsize=20)\n",
    "ax[1].grid()"
   ]
  },
  {
   "cell_type": "code",
   "execution_count": 17,
   "id": "c2aa2e42",
   "metadata": {},
   "outputs": [
    {
     "data": {
      "image/png": "[encoded data removed]",
      "text/plain": [
       "<Figure size 1440x432 with 2 Axes>"
      ]
     },
     "metadata": {
      "needs_background": "light"
     },
     "output_type": "display_data"
    }
   ],
   "source": [
    "titanic.Title.value_counts()\n",
    "ratio_title = titanic[titanic[\"Survived\"] == 1][\"Title\"].value_counts() / titanic[\"Title\"].value_counts()\n",
    "\n",
    "\n",
    "fig, ax = plt.subplots(ncols=2, figsize=(20, 6))\n",
    "fig.suptitle(\"Title\", fontsize=40)\n",
    "\n",
    "ax[0].bar(titanic['Title'].value_counts().index, titanic['Title'].value_counts())\n",
    "ax[0].set_ylabel(\"Num. passengers\", fontsize=20)\n",
    "ax[0].tick_params(axis='x', labelsize=20)\n",
    "ax[0].grid()\n",
    "\n",
    "ax[1].bar(ratio_title.index, ratio_title);\n",
    "ax[1].set_ylabel(\"Prop. survived\", fontsize=20)\n",
    "ax[1].tick_params(axis='x', labelsize=20)\n",
    "ax[1].grid()"
   ]
  },
  {
   "cell_type": "markdown",
   "id": "058c5ce0",
   "metadata": {},
   "source": [
    "---\n",
    "## 1.2 Ordical and Numeric Features \n",
    "\n",
    "Now consider the rest of the dataset. Below you can see the first few observations from all the non-categorical features."
   ]
  },
  {
   "cell_type": "code",
   "execution_count": 18,
   "id": "83013866",
   "metadata": {},
   "outputs": [
    {
     "data": {
      "text/html": [
       "<div>\n",
       "<style scoped>\n",
       "    .dataframe tbody tr th:only-of-type {\n",
       "        vertical-align: middle;\n",
       "    }\n",
       "\n",
       "    .dataframe tbody tr th {\n",
       "        vertical-align: top;\n",
       "    }\n",
       "\n",
       "    .dataframe thead th {\n",
       "        text-align: right;\n",
       "    }\n",
       "</style>\n",
       "<table border=\"1\" class=\"dataframe\">\n",
       "  <thead>\n",
       "    <tr style=\"text-align: right;\">\n",
       "      <th></th>\n",
       "      <th>PassengerId</th>\n",
       "      <th>Pclass</th>\n",
       "      <th>Age</th>\n",
       "      <th>SibSp</th>\n",
       "      <th>Parch</th>\n",
       "      <th>Fare</th>\n",
       "    </tr>\n",
       "  </thead>\n",
       "  <tbody>\n",
       "    <tr>\n",
       "      <th>0</th>\n",
       "      <td>1</td>\n",
       "      <td>3</td>\n",
       "      <td>22.0</td>\n",
       "      <td>1</td>\n",
       "      <td>0</td>\n",
       "      <td>7.2500</td>\n",
       "    </tr>\n",
       "    <tr>\n",
       "      <th>1</th>\n",
       "      <td>2</td>\n",
       "      <td>1</td>\n",
       "      <td>38.0</td>\n",
       "      <td>1</td>\n",
       "      <td>0</td>\n",
       "      <td>71.2833</td>\n",
       "    </tr>\n",
       "    <tr>\n",
       "      <th>2</th>\n",
       "      <td>3</td>\n",
       "      <td>3</td>\n",
       "      <td>26.0</td>\n",
       "      <td>0</td>\n",
       "      <td>0</td>\n",
       "      <td>7.9250</td>\n",
       "    </tr>\n",
       "    <tr>\n",
       "      <th>3</th>\n",
       "      <td>4</td>\n",
       "      <td>1</td>\n",
       "      <td>35.0</td>\n",
       "      <td>1</td>\n",
       "      <td>0</td>\n",
       "      <td>53.1000</td>\n",
       "    </tr>\n",
       "    <tr>\n",
       "      <th>4</th>\n",
       "      <td>5</td>\n",
       "      <td>3</td>\n",
       "      <td>35.0</td>\n",
       "      <td>0</td>\n",
       "      <td>0</td>\n",
       "      <td>8.0500</td>\n",
       "    </tr>\n",
       "  </tbody>\n",
       "</table>\n",
       "</div>"
      ],
      "text/plain": [
       "   PassengerId  Pclass   Age  SibSp  Parch     Fare\n",
       "0            1       3  22.0      1      0   7.2500\n",
       "1            2       1  38.0      1      0  71.2833\n",
       "2            3       3  26.0      0      0   7.9250\n",
       "3            4       1  35.0      1      0  53.1000\n",
       "4            5       3  35.0      0      0   8.0500"
      ]
     },
     "execution_count": 18,
     "metadata": {},
     "output_type": "execute_result"
    }
   ],
   "source": [
    "titanic[[c for c in titanic.columns if c not in categ_columns + ['Survived']]].head()"
   ]
  },
  {
   "cell_type": "markdown",
   "id": "f1918822",
   "metadata": {},
   "source": [
    "---\n",
    "**<ins>Step 6:</ins>** I would like to remove the feature `PassengerID` from the dataset since that doesn't have any informative value for prediction. "
   ]
  },
  {
   "cell_type": "code",
   "execution_count": 19,
   "id": "a022d23f",
   "metadata": {},
   "outputs": [
    {
     "data": {
      "text/html": [
       "<div>\n",
       "<style scoped>\n",
       "    .dataframe tbody tr th:only-of-type {\n",
       "        vertical-align: middle;\n",
       "    }\n",
       "\n",
       "    .dataframe tbody tr th {\n",
       "        vertical-align: top;\n",
       "    }\n",
       "\n",
       "    .dataframe thead th {\n",
       "        text-align: right;\n",
       "    }\n",
       "</style>\n",
       "<table border=\"1\" class=\"dataframe\">\n",
       "  <thead>\n",
       "    <tr style=\"text-align: right;\">\n",
       "      <th></th>\n",
       "      <th>Survived</th>\n",
       "      <th>Pclass</th>\n",
       "      <th>Sex</th>\n",
       "      <th>Age</th>\n",
       "      <th>SibSp</th>\n",
       "      <th>Parch</th>\n",
       "      <th>Fare</th>\n",
       "      <th>Embarked</th>\n",
       "      <th>Title</th>\n",
       "    </tr>\n",
       "  </thead>\n",
       "  <tbody>\n",
       "    <tr>\n",
       "      <th>0</th>\n",
       "      <td>0</td>\n",
       "      <td>3</td>\n",
       "      <td>male</td>\n",
       "      <td>22.0</td>\n",
       "      <td>1</td>\n",
       "      <td>0</td>\n",
       "      <td>7.2500</td>\n",
       "      <td>S</td>\n",
       "      <td>Mr</td>\n",
       "    </tr>\n",
       "    <tr>\n",
       "      <th>1</th>\n",
       "      <td>1</td>\n",
       "      <td>1</td>\n",
       "      <td>female</td>\n",
       "      <td>38.0</td>\n",
       "      <td>1</td>\n",
       "      <td>0</td>\n",
       "      <td>71.2833</td>\n",
       "      <td>C</td>\n",
       "      <td>Mrs</td>\n",
       "    </tr>\n",
       "  </tbody>\n",
       "</table>\n",
       "</div>"
      ],
      "text/plain": [
       "   Survived  Pclass     Sex   Age  SibSp  Parch     Fare Embarked Title\n",
       "0         0       3    male  22.0      1      0   7.2500        S    Mr\n",
       "1         1       1  female  38.0      1      0  71.2833        C   Mrs"
      ]
     },
     "execution_count": 19,
     "metadata": {},
     "output_type": "execute_result"
    }
   ],
   "source": [
    "titanic.drop([\"PassengerId\"], axis=1, inplace=True)\n",
    "assert 'PassengerId' not in titanic.columns\n",
    "titanic.head(2)"
   ]
  },
  {
   "cell_type": "markdown",
   "id": "2ca156b3",
   "metadata": {},
   "source": [
    "---\n",
    "Let's consider two columns: `SibSp` and `Parch`. The first one is responsible for number of Siblings/Spouses aboard the Titanic for the given passenger. The second one - number of parents/childer aboard the Titanic. Note that we can create one variable `FamilySize` out of these two. \n",
    "\n",
    "**<ins>Step 7:</ins>** Create a variable `FamilySize` as a total size of the passenger's family aboard. Remove columns `SibSp` and `Parch` from the dataset afterwards. "
   ]
  },
  {
   "cell_type": "code",
   "execution_count": 20,
   "id": "ec6cb105",
   "metadata": {},
   "outputs": [],
   "source": [
    "titanic['FamilySize'] = titanic.SibSp + titanic.Parch\n",
    "titanic.drop(['SibSp', 'Parch'], axis=1, inplace=True)"
   ]
  },
  {
   "cell_type": "code",
   "execution_count": 21,
   "id": "764ba4a1",
   "metadata": {},
   "outputs": [
    {
     "data": {
      "image/png": "[encoded data removed]",
      "text/plain": [
       "<Figure size 432x288 with 1 Axes>"
      ]
     },
     "metadata": {
      "needs_background": "light"
     },
     "output_type": "display_data"
    }
   ],
   "source": [
    "titanic.FamilySize.value_counts().sort_index().plot(kind='bar')\n",
    "plt.title('Family Size')\n",
    "plt.grid()"
   ]
  },
  {
   "cell_type": "markdown",
   "id": "14af0bb4",
   "metadata": {},
   "source": [
    "---\n",
    "Let us work with the variable `FamilySize` even further. Turns out, that sometimes it is reasonable to convert numerical feature into ordinal ones. E.g. instead of having a family size we can group peopple into `single`, `small_family`, etc. In this manner we can enforce larger distinction between people who do not have family at all and those who have small families. At the same time we can say that for the sake of our application we do not need to distiguish family of size 1 from the family of size 2. \n",
    "\n",
    "**<ins>Step 8:</ins>** I'll plot the bar plot for the variable `FamilySize` where the height of the bar is determined by the proportion of the survived passengers. Based on the created plot I'll split all the passengers into tree groups. For each group binary variables `FamilySize_1`, `FamilySize_2` and `FamilySize_3` will be created. "
   ]
  },
  {
   "cell_type": "code",
   "execution_count": 22,
   "id": "707d6e29",
   "metadata": {},
   "outputs": [
    {
     "data": {
      "text/plain": [
       "0     0.303538\n",
       "1     0.552795\n",
       "2     0.578431\n",
       "3     0.724138\n",
       "4     0.200000\n",
       "5     0.136364\n",
       "6     0.333333\n",
       "7     0.000000\n",
       "10    0.000000\n",
       "Name: FamilySize, dtype: float64"
      ]
     },
     "execution_count": 22,
     "metadata": {},
     "output_type": "execute_result"
    }
   ],
   "source": [
    "survived_prop = titanic['FamilySize'][titanic['Survived'] == 1].value_counts().sort_index() / titanic['FamilySize'].value_counts().sort_index()\n",
    "survived_prop.fillna(0)"
   ]
  },
  {
   "cell_type": "code",
   "execution_count": 23,
   "id": "7d1f64d0",
   "metadata": {},
   "outputs": [
    {
     "data": {
      "image/png": "[encoded data removed]",
      "text/plain": [
       "<Figure size 432x288 with 1 Axes>"
      ]
     },
     "metadata": {
      "needs_background": "light"
     },
     "output_type": "display_data"
    }
   ],
   "source": [
    "survived_prop.plot(kind='bar')\n",
    "plt.title('Survived number among family size groups')\n",
    "plt.grid()"
   ]
  },
  {
   "cell_type": "code",
   "execution_count": 24,
   "id": "5f4155a3",
   "metadata": {},
   "outputs": [],
   "source": [
    "def familySize(size):\n",
    "    if 1 <= size <= 3:\n",
    "        return \"FamilySize_1\"\n",
    "    if size == 0 or 4 <= size <=6:\n",
    "        return \"FamilySize_2\"\n",
    "    return \"FamilySize_3\"\n",
    "\n",
    "titanic[\"FamilySize\"] = titanic['FamilySize'].apply(familySize)"
   ]
  },
  {
   "cell_type": "code",
   "execution_count": 25,
   "id": "c078033b",
   "metadata": {},
   "outputs": [
    {
     "data": {
      "text/plain": [
       "FamilySize_2    586\n",
       "FamilySize_1    292\n",
       "FamilySize_3     13\n",
       "Name: FamilySize, dtype: int64"
      ]
     },
     "execution_count": 25,
     "metadata": {},
     "output_type": "execute_result"
    }
   ],
   "source": [
    "titanic[\"FamilySize\"].value_counts()"
   ]
  },
  {
   "cell_type": "code",
   "execution_count": 1,
   "id": "0381aeeb",
   "metadata": {},
   "outputs": [
    {
     "ename": "NameError",
     "evalue": "name 'titanic' is not defined",
     "output_type": "error",
     "traceback": [
      "\u001b[1;31m---------------------------------------------------------------------------\u001b[0m",
      "\u001b[1;31mNameError\u001b[0m                                 Traceback (most recent call last)",
      "\u001b[1;32m<ipython-input-1-047abe6e6edb>\u001b[0m in \u001b[0;36m<module>\u001b[1;34m\u001b[0m\n\u001b[0;32m      1\u001b[0m \u001b[1;32mfrom\u001b[0m \u001b[0msklearn\u001b[0m\u001b[1;33m.\u001b[0m\u001b[0mpreprocessing\u001b[0m \u001b[1;32mimport\u001b[0m \u001b[0mOneHotEncoder\u001b[0m\u001b[1;33m\u001b[0m\u001b[1;33m\u001b[0m\u001b[0m\n\u001b[0;32m      2\u001b[0m \u001b[0mohe\u001b[0m \u001b[1;33m=\u001b[0m \u001b[0mOneHotEncoder\u001b[0m\u001b[1;33m(\u001b[0m\u001b[1;33m)\u001b[0m\u001b[1;33m\u001b[0m\u001b[1;33m\u001b[0m\u001b[0m\n\u001b[1;32m----> 3\u001b[1;33m \u001b[0mohe\u001b[0m\u001b[1;33m.\u001b[0m\u001b[0mfit\u001b[0m\u001b[1;33m(\u001b[0m\u001b[0mtitanic\u001b[0m\u001b[1;33m[\u001b[0m\u001b[1;34m'FamilySize'\u001b[0m\u001b[1;33m]\u001b[0m\u001b[1;33m.\u001b[0m\u001b[0mvalues\u001b[0m\u001b[1;33m.\u001b[0m\u001b[0mreshape\u001b[0m\u001b[1;33m(\u001b[0m\u001b[1;33m-\u001b[0m\u001b[1;36m1\u001b[0m\u001b[1;33m,\u001b[0m \u001b[1;36m1\u001b[0m\u001b[1;33m)\u001b[0m\u001b[1;33m)\u001b[0m\u001b[1;33m\u001b[0m\u001b[1;33m\u001b[0m\u001b[0m\n\u001b[0m\u001b[0;32m      4\u001b[0m \u001b[0mtransformed\u001b[0m \u001b[1;33m=\u001b[0m \u001b[0mohe\u001b[0m\u001b[1;33m.\u001b[0m\u001b[0mtransform\u001b[0m\u001b[1;33m(\u001b[0m\u001b[0mtitanic\u001b[0m\u001b[1;33m[\u001b[0m\u001b[1;34m'FamilySize'\u001b[0m\u001b[1;33m]\u001b[0m\u001b[1;33m.\u001b[0m\u001b[0mvalues\u001b[0m\u001b[1;33m.\u001b[0m\u001b[0mreshape\u001b[0m\u001b[1;33m(\u001b[0m\u001b[1;33m-\u001b[0m\u001b[1;36m1\u001b[0m\u001b[1;33m,\u001b[0m \u001b[1;36m1\u001b[0m\u001b[1;33m)\u001b[0m\u001b[1;33m)\u001b[0m\u001b[1;33m.\u001b[0m\u001b[0mtoarray\u001b[0m\u001b[1;33m(\u001b[0m\u001b[1;33m)\u001b[0m\u001b[1;33m\u001b[0m\u001b[1;33m\u001b[0m\u001b[0m\n\u001b[0;32m      5\u001b[0m \u001b[0mfmsize\u001b[0m \u001b[1;33m=\u001b[0m \u001b[0mpd\u001b[0m\u001b[1;33m.\u001b[0m\u001b[0mDataFrame\u001b[0m\u001b[1;33m(\u001b[0m\u001b[0mtransformed\u001b[0m\u001b[1;33m,\u001b[0m \u001b[0mcolumns\u001b[0m\u001b[1;33m=\u001b[0m\u001b[1;33m[\u001b[0m\u001b[1;34m\"FamilySize1\"\u001b[0m\u001b[1;33m,\u001b[0m \u001b[1;34m\"FamilySize2\"\u001b[0m\u001b[1;33m,\u001b[0m \u001b[1;34m\"FamilySize3\"\u001b[0m\u001b[1;33m]\u001b[0m\u001b[1;33m)\u001b[0m\u001b[1;33m.\u001b[0m\u001b[0mastype\u001b[0m\u001b[1;33m(\u001b[0m\u001b[0mint\u001b[0m\u001b[1;33m)\u001b[0m\u001b[1;33m\u001b[0m\u001b[1;33m\u001b[0m\u001b[0m\n",
      "\u001b[1;31mNameError\u001b[0m: name 'titanic' is not defined"
     ]
    }
   ],
   "source": [
    "from sklearn.preprocessing import OneHotEncoder\n",
    "ohe = OneHotEncoder()\n",
    "ohe.fit(titanic['FamilySize'].values.reshape(-1, 1))\n",
    "transformed = ohe.transform(titanic['FamilySize'].values.reshape(-1, 1)).toarray()\n",
    "fmsize = pd.DataFrame(transformed, columns=[\"FamilySize1\", \"FamilySize2\", \"FamilySize3\"]).astype(int)\n",
    "fmsize"
   ]
  },
  {
   "cell_type": "code",
   "execution_count": 27,
   "id": "a6e6929c",
   "metadata": {
    "scrolled": true
   },
   "outputs": [
    {
     "data": {
      "text/html": [
       "<div>\n",
       "<style scoped>\n",
       "    .dataframe tbody tr th:only-of-type {\n",
       "        vertical-align: middle;\n",
       "    }\n",
       "\n",
       "    .dataframe tbody tr th {\n",
       "        vertical-align: top;\n",
       "    }\n",
       "\n",
       "    .dataframe thead th {\n",
       "        text-align: right;\n",
       "    }\n",
       "</style>\n",
       "<table border=\"1\" class=\"dataframe\">\n",
       "  <thead>\n",
       "    <tr style=\"text-align: right;\">\n",
       "      <th></th>\n",
       "      <th>Survived</th>\n",
       "      <th>Pclass</th>\n",
       "      <th>Sex</th>\n",
       "      <th>Age</th>\n",
       "      <th>Fare</th>\n",
       "      <th>Embarked</th>\n",
       "      <th>Title</th>\n",
       "      <th>FamilySize1</th>\n",
       "      <th>FamilySize2</th>\n",
       "      <th>FamilySize3</th>\n",
       "    </tr>\n",
       "  </thead>\n",
       "  <tbody>\n",
       "    <tr>\n",
       "      <th>0</th>\n",
       "      <td>0</td>\n",
       "      <td>3</td>\n",
       "      <td>male</td>\n",
       "      <td>22.0</td>\n",
       "      <td>7.2500</td>\n",
       "      <td>S</td>\n",
       "      <td>Mr</td>\n",
       "      <td>1</td>\n",
       "      <td>0</td>\n",
       "      <td>0</td>\n",
       "    </tr>\n",
       "    <tr>\n",
       "      <th>1</th>\n",
       "      <td>1</td>\n",
       "      <td>1</td>\n",
       "      <td>female</td>\n",
       "      <td>38.0</td>\n",
       "      <td>71.2833</td>\n",
       "      <td>C</td>\n",
       "      <td>Mrs</td>\n",
       "      <td>1</td>\n",
       "      <td>0</td>\n",
       "      <td>0</td>\n",
       "    </tr>\n",
       "    <tr>\n",
       "      <th>2</th>\n",
       "      <td>1</td>\n",
       "      <td>3</td>\n",
       "      <td>female</td>\n",
       "      <td>26.0</td>\n",
       "      <td>7.9250</td>\n",
       "      <td>S</td>\n",
       "      <td>Miss</td>\n",
       "      <td>0</td>\n",
       "      <td>1</td>\n",
       "      <td>0</td>\n",
       "    </tr>\n",
       "    <tr>\n",
       "      <th>3</th>\n",
       "      <td>1</td>\n",
       "      <td>1</td>\n",
       "      <td>female</td>\n",
       "      <td>35.0</td>\n",
       "      <td>53.1000</td>\n",
       "      <td>S</td>\n",
       "      <td>Mrs</td>\n",
       "      <td>1</td>\n",
       "      <td>0</td>\n",
       "      <td>0</td>\n",
       "    </tr>\n",
       "    <tr>\n",
       "      <th>4</th>\n",
       "      <td>0</td>\n",
       "      <td>3</td>\n",
       "      <td>male</td>\n",
       "      <td>35.0</td>\n",
       "      <td>8.0500</td>\n",
       "      <td>S</td>\n",
       "      <td>Mr</td>\n",
       "      <td>0</td>\n",
       "      <td>1</td>\n",
       "      <td>0</td>\n",
       "    </tr>\n",
       "    <tr>\n",
       "      <th>...</th>\n",
       "      <td>...</td>\n",
       "      <td>...</td>\n",
       "      <td>...</td>\n",
       "      <td>...</td>\n",
       "      <td>...</td>\n",
       "      <td>...</td>\n",
       "      <td>...</td>\n",
       "      <td>...</td>\n",
       "      <td>...</td>\n",
       "      <td>...</td>\n",
       "    </tr>\n",
       "    <tr>\n",
       "      <th>886</th>\n",
       "      <td>0</td>\n",
       "      <td>2</td>\n",
       "      <td>male</td>\n",
       "      <td>27.0</td>\n",
       "      <td>13.0000</td>\n",
       "      <td>S</td>\n",
       "      <td>Other</td>\n",
       "      <td>0</td>\n",
       "      <td>1</td>\n",
       "      <td>0</td>\n",
       "    </tr>\n",
       "    <tr>\n",
       "      <th>887</th>\n",
       "      <td>1</td>\n",
       "      <td>1</td>\n",
       "      <td>female</td>\n",
       "      <td>19.0</td>\n",
       "      <td>30.0000</td>\n",
       "      <td>S</td>\n",
       "      <td>Miss</td>\n",
       "      <td>0</td>\n",
       "      <td>1</td>\n",
       "      <td>0</td>\n",
       "    </tr>\n",
       "    <tr>\n",
       "      <th>888</th>\n",
       "      <td>0</td>\n",
       "      <td>3</td>\n",
       "      <td>female</td>\n",
       "      <td>NaN</td>\n",
       "      <td>23.4500</td>\n",
       "      <td>S</td>\n",
       "      <td>Miss</td>\n",
       "      <td>1</td>\n",
       "      <td>0</td>\n",
       "      <td>0</td>\n",
       "    </tr>\n",
       "    <tr>\n",
       "      <th>889</th>\n",
       "      <td>1</td>\n",
       "      <td>1</td>\n",
       "      <td>male</td>\n",
       "      <td>26.0</td>\n",
       "      <td>30.0000</td>\n",
       "      <td>C</td>\n",
       "      <td>Mr</td>\n",
       "      <td>0</td>\n",
       "      <td>1</td>\n",
       "      <td>0</td>\n",
       "    </tr>\n",
       "    <tr>\n",
       "      <th>890</th>\n",
       "      <td>0</td>\n",
       "      <td>3</td>\n",
       "      <td>male</td>\n",
       "      <td>32.0</td>\n",
       "      <td>7.7500</td>\n",
       "      <td>Q</td>\n",
       "      <td>Mr</td>\n",
       "      <td>0</td>\n",
       "      <td>1</td>\n",
       "      <td>0</td>\n",
       "    </tr>\n",
       "  </tbody>\n",
       "</table>\n",
       "<p>891 rows × 10 columns</p>\n",
       "</div>"
      ],
      "text/plain": [
       "     Survived  Pclass     Sex   Age     Fare Embarked  Title  FamilySize1  \\\n",
       "0           0       3    male  22.0   7.2500        S     Mr            1   \n",
       "1           1       1  female  38.0  71.2833        C    Mrs            1   \n",
       "2           1       3  female  26.0   7.9250        S   Miss            0   \n",
       "3           1       1  female  35.0  53.1000        S    Mrs            1   \n",
       "4           0       3    male  35.0   8.0500        S     Mr            0   \n",
       "..        ...     ...     ...   ...      ...      ...    ...          ...   \n",
       "886         0       2    male  27.0  13.0000        S  Other            0   \n",
       "887         1       1  female  19.0  30.0000        S   Miss            0   \n",
       "888         0       3  female   NaN  23.4500        S   Miss            1   \n",
       "889         1       1    male  26.0  30.0000        C     Mr            0   \n",
       "890         0       3    male  32.0   7.7500        Q     Mr            0   \n",
       "\n",
       "     FamilySize2  FamilySize3  \n",
       "0              0            0  \n",
       "1              0            0  \n",
       "2              1            0  \n",
       "3              0            0  \n",
       "4              1            0  \n",
       "..           ...          ...  \n",
       "886            1            0  \n",
       "887            1            0  \n",
       "888            0            0  \n",
       "889            1            0  \n",
       "890            1            0  \n",
       "\n",
       "[891 rows x 10 columns]"
      ]
     },
     "execution_count": 27,
     "metadata": {},
     "output_type": "execute_result"
    }
   ],
   "source": [
    "titanic = pd.concat([titanic, fmsize], axis=1)\n",
    "titanic.drop(['FamilySize'], axis=1, inplace=True)\n",
    "titanic"
   ]
  },
  {
   "cell_type": "markdown",
   "id": "f283c47f",
   "metadata": {},
   "source": [
    "---\n",
    "\n",
    "Basically, we've just converted numerical feature `FamilySize` into categorical one with three categories. Moreover, we've simultaniously performed One-hot encoding of this categorical feature and obtained three binary variables. Also I droped the feature `FamilySize` as it is not needed anymore."
   ]
  },
  {
   "cell_type": "markdown",
   "id": "e602aa73",
   "metadata": {},
   "source": [
    "---\n",
    "**<ins>Step 9:</ins>** We have three features left unexplored. They are `Pclass`, `Age` and `Fare`. The first one stands for the ticket class, second - for the age of the passenger and the third one gives us price of the ticket. \n",
    "\n",
    "Let's create `ordinal_cols`, which will be list of all the ordinal columns (put there names of relevant columns) and `numeric_cols` - list with the names of the numeric columns. If there is no ordinal or numeric colums, I'll make the corrisponding list empty."
   ]
  },
  {
   "cell_type": "code",
   "execution_count": 28,
   "id": "506e19fc",
   "metadata": {},
   "outputs": [
    {
     "name": "stdout",
     "output_type": "stream",
     "text": [
      "Ordinal columns are:  ['Pclass']\n",
      "Numeric columns are:  ['Age', 'Fare']\n"
     ]
    }
   ],
   "source": [
    "ordinal_cols = [\"Pclass\"]\n",
    "numeric_cols = [\"Age\", \"Fare\"]\n",
    "\n",
    "print('Ordinal columns are: ', ordinal_cols)\n",
    "print('Numeric columns are: ', numeric_cols)"
   ]
  },
  {
   "cell_type": "markdown",
   "id": "4154bca8",
   "metadata": {},
   "source": [
    "We can use different plots to explore numerical features. Below there are examples represented with the variable `Age`. One reason, why it is usefull to make such plots is that it may help to fill in missing values."
   ]
  },
  {
   "cell_type": "code",
   "execution_count": 29,
   "id": "0bfc8cb8",
   "metadata": {},
   "outputs": [
    {
     "name": "stdout",
     "output_type": "stream",
     "text": [
      "\n",
      "We can use histograms or boxplots to see how numerical features depends on the categorical one.\n",
      "1. Age vs Target\n"
     ]
    },
    {
     "data": {
      "image/png": "[encoded data removed]",
      "text/plain": [
       "<Figure size 432x288 with 2 Axes>"
      ]
     },
     "metadata": {
      "needs_background": "light"
     },
     "output_type": "display_data"
    },
    {
     "name": "stdout",
     "output_type": "stream",
     "text": [
      "\n",
      "2. Age vs Sex\n"
     ]
    },
    {
     "data": {
      "image/png": "[encoded data removed]",
      "text/plain": [
       "<Figure size 504x360 with 1 Axes>"
      ]
     },
     "metadata": {
      "needs_background": "light"
     },
     "output_type": "display_data"
    },
    {
     "name": "stdout",
     "output_type": "stream",
     "text": [
      "3. Age vs Target\n"
     ]
    },
    {
     "data": {
      "image/png": "[encoded data removed]",
      "text/plain": [
       "<Figure size 504x360 with 1 Axes>"
      ]
     },
     "metadata": {
      "needs_background": "light"
     },
     "output_type": "display_data"
    },
    {
     "name": "stdout",
     "output_type": "stream",
     "text": [
      "\n",
      "Scatter plots are usefull to spot connection between two numeric features.\n"
     ]
    },
    {
     "data": {
      "image/png": "[encoded data removed]",
      "text/plain": [
       "<Figure size 432x288 with 1 Axes>"
      ]
     },
     "metadata": {
      "needs_background": "light"
     },
     "output_type": "display_data"
    }
   ],
   "source": [
    "print()\n",
    "print('We can use histograms or boxplots to see how numerical features depends on the categorical one.')\n",
    "print('1. Age vs Target')\n",
    "titanic.hist(column='Age', by='Survived', bins=20, sharey=True);\n",
    "plt.show();\n",
    "\n",
    "print()\n",
    "print('2. Age vs Sex')\n",
    "titanic.boxplot(column='Age', by='Sex', figsize=(7,5));\n",
    "plt.ylabel('Age');\n",
    "plt.show();\n",
    "\n",
    "print('3. Age vs Target')\n",
    "titanic.boxplot(column='Age', by='Title', figsize=(7,5));\n",
    "plt.ylabel('Age');\n",
    "plt.show();\n",
    "\n",
    "print()\n",
    "print('Scatter plots are usefull to spot connection between two numeric features.')\n",
    "titanic.plot.scatter(x='Age', y='Fare');\n",
    "plt.grid()\n",
    "plt.title('Scatter plot of Age and Fare');"
   ]
  },
  {
   "cell_type": "markdown",
   "id": "84702c2c",
   "metadata": {},
   "source": [
    "---\n",
    "## 1.3 Working with missing values \n",
    "**<ins>Step 10:</ins>** Let's compute proportion of missing values in each column and store the answer in the variable `prop_missing`.\n"
   ]
  },
  {
   "cell_type": "code",
   "execution_count": 30,
   "id": "ba3fc52b",
   "metadata": {},
   "outputs": [
    {
     "data": {
      "text/plain": [
       "Survived       0.000000\n",
       "Pclass         0.000000\n",
       "Sex            0.000000\n",
       "Age            0.198653\n",
       "Fare           0.000000\n",
       "Embarked       0.002245\n",
       "Title          0.000000\n",
       "FamilySize1    0.000000\n",
       "FamilySize2    0.000000\n",
       "FamilySize3    0.000000\n",
       "dtype: float64"
      ]
     },
     "execution_count": 30,
     "metadata": {},
     "output_type": "execute_result"
    }
   ],
   "source": [
    "prop_missing = titanic.isna().sum() / titanic.shape[0]\n",
    "prop_missing"
   ]
  },
  {
   "cell_type": "markdown",
   "id": "c9c2fcf2",
   "metadata": {},
   "source": [
    "We have two columns with missing values. "
   ]
  },
  {
   "cell_type": "code",
   "execution_count": 31,
   "id": "30c6f54b",
   "metadata": {},
   "outputs": [
    {
     "data": {
      "text/plain": [
       "array(['Age', 'Embarked'], dtype=object)"
      ]
     },
     "execution_count": 31,
     "metadata": {},
     "output_type": "execute_result"
    }
   ],
   "source": [
    "titanic.columns[prop_missing > 0].values"
   ]
  },
  {
   "cell_type": "markdown",
   "id": "c3590f82",
   "metadata": {},
   "source": [
    "What can we do with that? Below we have some options listed:\n",
    "- Fill all the NAs with the same value (mean, median, any other constant)\n",
    "- Fill NAs using grouping (e.g. we can fill missing in the variable `Fare` for male and female passengers separately using their average value)\n",
    "- Drop all the rows with missing values\n",
    "- Drop the whole column (e.g. if there are too many missing values)\n",
    "\n",
    "The most popular way is to use `SimpleImputer` from sklearn. If fills all the missing values with the same number. \n",
    "\n",
    "\n",
    "**<ins>Step 11:</ins>** I'm going to implement a more phisticated Imputer. `MeanGroupImputer`. We will make sure that it has proper sklearn interface, so that we can use it within our pipelines. \n"
   ]
  },
  {
   "cell_type": "code",
   "execution_count": 32,
   "id": "9a4dca1e",
   "metadata": {},
   "outputs": [],
   "source": [
    "from sklearn.base import BaseEstimator, TransformerMixin\n",
    "class MeanGroupImputer(BaseEstimator, TransformerMixin):\n",
    "    '''\n",
    "    Class used for imputing missing values in a pd.DataFrame using mean value within group\n",
    "    \n",
    "    Parameters\n",
    "    ----------    \n",
    "    group_cols : str\n",
    "        A column used to calculate the mean values\n",
    "    Returns\n",
    "    -------\n",
    "    X : array-like\n",
    "        The array with imputed values in the target column\n",
    "    '''\n",
    "    def __init__(self, group_col):\n",
    "        assert type(group_col) == str, 'group_col should be a string'\n",
    "\n",
    "        self.group_col = group_col\n",
    "    \n",
    "    def fit(self, X, y=None):\n",
    "        assert X[self.group_col].isna().sum() == 0, 'There are missing values in the group_col'\n",
    "        \n",
    "        # Group dataset by `group_col` and calculate mean value of all the other columns within this group\n",
    "        self.mapping = X.groupby(self.group_col).mean()\n",
    "        return self \n",
    "    \n",
    "    def transform(self, X, y=None):\n",
    "        X = X.copy()\n",
    "        # make sure that the imputer was fitted\n",
    "        assert self.mapping is not None\n",
    "        \n",
    "        # loop over all the groups\n",
    "        for index, row in self.mapping.iterrows():\n",
    "\n",
    "            # Fill in missing values for the group `index` with the values `row`            \n",
    "            if index:\n",
    "                X.loc[X[self.group_col] == index, row.index] \\\n",
    "                    = X.loc[X[self.group_col] == index, row.index].fillna(value=dict(zip(list(row.index), row.values)))\n",
    "\n",
    "        # Then drop grouping column (we did not transform it, so it is not needed anymore)\n",
    "        X.drop(self.group_col, axis=1, inplace=True)\n",
    "        return X.values"
   ]
  },
  {
   "cell_type": "code",
   "execution_count": 33,
   "id": "9d7ae9e2",
   "metadata": {},
   "outputs": [
    {
     "name": "stdout",
     "output_type": "stream",
     "text": [
      "  name  value  other_value\n",
      "0    A    1.0         10.0\n",
      "1    A    NaN          NaN\n",
      "2    B    2.0          NaN\n",
      "3    B    NaN         20.0\n",
      "4    B    3.0         30.0\n",
      "5    B    1.0         10.0\n",
      "6    C    3.0         30.0\n",
      "7    C    NaN          NaN\n",
      "8    C    5.0         30.0\n",
      "[[ 1. 10.]\n",
      " [ 1. 10.]\n",
      " [ 2. 20.]\n",
      " [ 2. 20.]\n",
      " [ 3. 30.]\n",
      " [ 1. 10.]\n",
      " [ 3. 30.]\n",
      " [ 4. 30.]\n",
      " [ 5. 30.]]\n"
     ]
    }
   ],
   "source": [
    "# Test\n",
    "toy_dataset = pd.DataFrame({'name': ['A','A', 'B','B','B','B', 'C','C','C'],\n",
    "                            'value': [1, np.nan, 2, np.nan, 3, 1, 3, np.nan, 5],\n",
    "                            'other_value': [10, np.nan, np.nan, 20, 30, 10, 30, np.nan, 30]})\n",
    "print(toy_dataset)\n",
    "imp = MeanGroupImputer(group_col='name')\n",
    "output = imp.fit_transform(toy_dataset)\n",
    "print(output)\n",
    "\n",
    "# test that answers are correct for the toy dataset\n",
    "assert (output[:, 0] == np.array([1.0, 1.0, 2.0, 2.0, 3.0, 1.0, 3.0, 4.0, 5.0])).all()\n",
    "assert (output[:, 1] == np.array([10.0, 10.0, 20.0, 20.0, 30.0, 10.0, 30.0, 30.0, 30.0])).all()"
   ]
  },
  {
   "cell_type": "markdown",
   "id": "59a0b7f5",
   "metadata": {},
   "source": [
    "## 1.4 Define column transformers <a class=\"anchor\" id=\"columns\"></a>\n",
    "\n",
    " **<ins>Step 12:</ins>** In this task I'll define columns transformer and create three pipelines:\n",
    " - `age_pipe`: Pipeline to preprocess column `Age`. It uses `MeanGroupImputer` with the grouping variable `Title` to fill missing values in `Age` and then applies `StandardScaler`\n",
    " - `fare_pipe`: Pipeline to preprocess column `Fare`. It applies `StandardScaler` only\n",
    " - `categ_pipe`: Pipeline to preprocess all categorical variables. It uses `SimpleImputer` to impute missing values with the most frequent class and then applies `OneHotEncoder`\n"
   ]
  },
  {
   "cell_type": "code",
   "execution_count": 34,
   "id": "7219613f",
   "metadata": {},
   "outputs": [],
   "source": [
    "from sklearn.impute import SimpleImputer\n",
    "from sklearn.compose import ColumnTransformer\n",
    "from sklearn.preprocessing import OneHotEncoder, StandardScaler\n",
    "from sklearn.pipeline import make_pipeline\n",
    "\n",
    "age_pipe = make_pipeline(MeanGroupImputer(group_col='Title'), StandardScaler())\n",
    "fare_pipe = make_pipeline(StandardScaler())\n",
    "categ_pipe = make_pipeline(SimpleImputer(strategy='most_frequent'), OneHotEncoder())\n",
    "\n",
    "\n",
    "# Combine all three pipelines in one column transformer\n",
    "column_transformer = ColumnTransformer([\n",
    " ('age', age_pipe, ['Age', 'Title']),\n",
    " ('fare', fare_pipe, ['Fare']),\n",
    " ('all_categ', categ_pipe, categ_columns)],\n",
    "remainder='passthrough'\n",
    ")\n"
   ]
  },
  {
   "cell_type": "code",
   "execution_count": 35,
   "id": "05e2596b",
   "metadata": {},
   "outputs": [
    {
     "data": {
      "text/html": [
       "<div>\n",
       "<style scoped>\n",
       "    .dataframe tbody tr th:only-of-type {\n",
       "        vertical-align: middle;\n",
       "    }\n",
       "\n",
       "    .dataframe tbody tr th {\n",
       "        vertical-align: top;\n",
       "    }\n",
       "\n",
       "    .dataframe thead th {\n",
       "        text-align: right;\n",
       "    }\n",
       "</style>\n",
       "<table border=\"1\" class=\"dataframe\">\n",
       "  <thead>\n",
       "    <tr style=\"text-align: right;\">\n",
       "      <th></th>\n",
       "      <th>Survived</th>\n",
       "      <th>Pclass</th>\n",
       "      <th>Sex</th>\n",
       "      <th>Age</th>\n",
       "      <th>Fare</th>\n",
       "      <th>Embarked</th>\n",
       "      <th>Title</th>\n",
       "      <th>FamilySize1</th>\n",
       "      <th>FamilySize2</th>\n",
       "      <th>FamilySize3</th>\n",
       "    </tr>\n",
       "  </thead>\n",
       "  <tbody>\n",
       "    <tr>\n",
       "      <th>0</th>\n",
       "      <td>0</td>\n",
       "      <td>3</td>\n",
       "      <td>male</td>\n",
       "      <td>22.0</td>\n",
       "      <td>7.2500</td>\n",
       "      <td>S</td>\n",
       "      <td>Mr</td>\n",
       "      <td>1</td>\n",
       "      <td>0</td>\n",
       "      <td>0</td>\n",
       "    </tr>\n",
       "    <tr>\n",
       "      <th>1</th>\n",
       "      <td>1</td>\n",
       "      <td>1</td>\n",
       "      <td>female</td>\n",
       "      <td>38.0</td>\n",
       "      <td>71.2833</td>\n",
       "      <td>C</td>\n",
       "      <td>Mrs</td>\n",
       "      <td>1</td>\n",
       "      <td>0</td>\n",
       "      <td>0</td>\n",
       "    </tr>\n",
       "    <tr>\n",
       "      <th>2</th>\n",
       "      <td>1</td>\n",
       "      <td>3</td>\n",
       "      <td>female</td>\n",
       "      <td>26.0</td>\n",
       "      <td>7.9250</td>\n",
       "      <td>S</td>\n",
       "      <td>Miss</td>\n",
       "      <td>0</td>\n",
       "      <td>1</td>\n",
       "      <td>0</td>\n",
       "    </tr>\n",
       "    <tr>\n",
       "      <th>3</th>\n",
       "      <td>1</td>\n",
       "      <td>1</td>\n",
       "      <td>female</td>\n",
       "      <td>35.0</td>\n",
       "      <td>53.1000</td>\n",
       "      <td>S</td>\n",
       "      <td>Mrs</td>\n",
       "      <td>1</td>\n",
       "      <td>0</td>\n",
       "      <td>0</td>\n",
       "    </tr>\n",
       "    <tr>\n",
       "      <th>4</th>\n",
       "      <td>0</td>\n",
       "      <td>3</td>\n",
       "      <td>male</td>\n",
       "      <td>35.0</td>\n",
       "      <td>8.0500</td>\n",
       "      <td>S</td>\n",
       "      <td>Mr</td>\n",
       "      <td>0</td>\n",
       "      <td>1</td>\n",
       "      <td>0</td>\n",
       "    </tr>\n",
       "    <tr>\n",
       "      <th>...</th>\n",
       "      <td>...</td>\n",
       "      <td>...</td>\n",
       "      <td>...</td>\n",
       "      <td>...</td>\n",
       "      <td>...</td>\n",
       "      <td>...</td>\n",
       "      <td>...</td>\n",
       "      <td>...</td>\n",
       "      <td>...</td>\n",
       "      <td>...</td>\n",
       "    </tr>\n",
       "    <tr>\n",
       "      <th>886</th>\n",
       "      <td>0</td>\n",
       "      <td>2</td>\n",
       "      <td>male</td>\n",
       "      <td>27.0</td>\n",
       "      <td>13.0000</td>\n",
       "      <td>S</td>\n",
       "      <td>Other</td>\n",
       "      <td>0</td>\n",
       "      <td>1</td>\n",
       "      <td>0</td>\n",
       "    </tr>\n",
       "    <tr>\n",
       "      <th>887</th>\n",
       "      <td>1</td>\n",
       "      <td>1</td>\n",
       "      <td>female</td>\n",
       "      <td>19.0</td>\n",
       "      <td>30.0000</td>\n",
       "      <td>S</td>\n",
       "      <td>Miss</td>\n",
       "      <td>0</td>\n",
       "      <td>1</td>\n",
       "      <td>0</td>\n",
       "    </tr>\n",
       "    <tr>\n",
       "      <th>888</th>\n",
       "      <td>0</td>\n",
       "      <td>3</td>\n",
       "      <td>female</td>\n",
       "      <td>NaN</td>\n",
       "      <td>23.4500</td>\n",
       "      <td>S</td>\n",
       "      <td>Miss</td>\n",
       "      <td>1</td>\n",
       "      <td>0</td>\n",
       "      <td>0</td>\n",
       "    </tr>\n",
       "    <tr>\n",
       "      <th>889</th>\n",
       "      <td>1</td>\n",
       "      <td>1</td>\n",
       "      <td>male</td>\n",
       "      <td>26.0</td>\n",
       "      <td>30.0000</td>\n",
       "      <td>C</td>\n",
       "      <td>Mr</td>\n",
       "      <td>0</td>\n",
       "      <td>1</td>\n",
       "      <td>0</td>\n",
       "    </tr>\n",
       "    <tr>\n",
       "      <th>890</th>\n",
       "      <td>0</td>\n",
       "      <td>3</td>\n",
       "      <td>male</td>\n",
       "      <td>32.0</td>\n",
       "      <td>7.7500</td>\n",
       "      <td>Q</td>\n",
       "      <td>Mr</td>\n",
       "      <td>0</td>\n",
       "      <td>1</td>\n",
       "      <td>0</td>\n",
       "    </tr>\n",
       "  </tbody>\n",
       "</table>\n",
       "<p>891 rows × 10 columns</p>\n",
       "</div>"
      ],
      "text/plain": [
       "     Survived  Pclass     Sex   Age     Fare Embarked  Title  FamilySize1  \\\n",
       "0           0       3    male  22.0   7.2500        S     Mr            1   \n",
       "1           1       1  female  38.0  71.2833        C    Mrs            1   \n",
       "2           1       3  female  26.0   7.9250        S   Miss            0   \n",
       "3           1       1  female  35.0  53.1000        S    Mrs            1   \n",
       "4           0       3    male  35.0   8.0500        S     Mr            0   \n",
       "..        ...     ...     ...   ...      ...      ...    ...          ...   \n",
       "886         0       2    male  27.0  13.0000        S  Other            0   \n",
       "887         1       1  female  19.0  30.0000        S   Miss            0   \n",
       "888         0       3  female   NaN  23.4500        S   Miss            1   \n",
       "889         1       1    male  26.0  30.0000        C     Mr            0   \n",
       "890         0       3    male  32.0   7.7500        Q     Mr            0   \n",
       "\n",
       "     FamilySize2  FamilySize3  \n",
       "0              0            0  \n",
       "1              0            0  \n",
       "2              1            0  \n",
       "3              0            0  \n",
       "4              1            0  \n",
       "..           ...          ...  \n",
       "886            1            0  \n",
       "887            1            0  \n",
       "888            0            0  \n",
       "889            1            0  \n",
       "890            1            0  \n",
       "\n",
       "[891 rows x 10 columns]"
      ]
     },
     "execution_count": 35,
     "metadata": {},
     "output_type": "execute_result"
    }
   ],
   "source": [
    "titanic"
   ]
  },
  {
   "cell_type": "code",
   "execution_count": 36,
   "id": "b47305a3",
   "metadata": {},
   "outputs": [
    {
     "name": "stdout",
     "output_type": "stream",
     "text": [
      "           0         1    2    3    4    5    6    7    8    9    10   11  \\\n",
      "0   -0.584387 -0.502445  0.0  1.0  0.0  0.0  1.0  0.0  0.0  0.0  1.0  0.0   \n",
      "1    0.621365  0.786845  1.0  0.0  1.0  0.0  0.0  0.0  0.0  0.0  0.0  1.0   \n",
      "2   -0.282949 -0.488854  1.0  0.0  0.0  0.0  1.0  0.0  0.0  1.0  0.0  0.0   \n",
      "3    0.395286  0.420730  1.0  0.0  0.0  0.0  1.0  0.0  0.0  0.0  0.0  1.0   \n",
      "4    0.395286 -0.486337  0.0  1.0  0.0  0.0  1.0  0.0  0.0  0.0  1.0  0.0   \n",
      "..        ...       ...  ...  ...  ...  ...  ...  ...  ...  ...  ...  ...   \n",
      "886 -0.207590 -0.386671  0.0  1.0  0.0  0.0  1.0  0.0  0.0  0.0  0.0  0.0   \n",
      "887 -0.810466 -0.044381  1.0  0.0  0.0  0.0  1.0  0.0  0.0  1.0  0.0  0.0   \n",
      "888 -0.601421 -0.176263  1.0  0.0  0.0  0.0  1.0  0.0  0.0  1.0  0.0  0.0   \n",
      "889 -0.282949 -0.044381  0.0  1.0  1.0  0.0  0.0  0.0  0.0  0.0  1.0  0.0   \n",
      "890  0.169208 -0.492378  0.0  1.0  0.0  1.0  0.0  0.0  0.0  0.0  1.0  0.0   \n",
      "\n",
      "      12   13   14   15   16   17  \n",
      "0    0.0  0.0  3.0  1.0  0.0  0.0  \n",
      "1    0.0  1.0  1.0  1.0  0.0  0.0  \n",
      "2    0.0  1.0  3.0  0.0  1.0  0.0  \n",
      "3    0.0  1.0  1.0  1.0  0.0  0.0  \n",
      "4    0.0  0.0  3.0  0.0  1.0  0.0  \n",
      "..   ...  ...  ...  ...  ...  ...  \n",
      "886  1.0  0.0  2.0  0.0  1.0  0.0  \n",
      "887  0.0  1.0  1.0  0.0  1.0  0.0  \n",
      "888  0.0  0.0  3.0  1.0  0.0  0.0  \n",
      "889  0.0  1.0  1.0  0.0  1.0  0.0  \n",
      "890  0.0  0.0  3.0  0.0  1.0  0.0  \n",
      "\n",
      "[891 rows x 18 columns]\n"
     ]
    }
   ],
   "source": [
    "test_titanic = column_transformer.fit_transform(titanic)\n",
    "print(pd.DataFrame(test_titanic))"
   ]
  },
  {
   "cell_type": "markdown",
   "id": "9b4aabf6",
   "metadata": {},
   "source": [
    "## 1.5 Train/test split"
   ]
  },
  {
   "cell_type": "code",
   "execution_count": 37,
   "id": "586cc641",
   "metadata": {},
   "outputs": [],
   "source": [
    "from sklearn.model_selection import train_test_split\n",
    "\n",
    "tr, te = train_test_split(titanic, test_size=0.2, random_state=42)\n",
    "\n",
    "y_train = tr.Survived\n",
    "y_test = te.Survived\n",
    "X_train = tr.drop(['Survived'], axis=1)\n",
    "X_test = te.drop(['Survived'], axis=1)"
   ]
  },
  {
   "cell_type": "markdown",
   "id": "bb355ace",
   "metadata": {},
   "source": [
    "# Part 2. Logistic Regression and Support Vector Machine"
   ]
  },
  {
   "cell_type": "markdown",
   "id": "c32b049e",
   "metadata": {},
   "source": [
    "## 2.1 Fit Logistic Regression\n",
    "\n",
    "\n",
    "**<ins>Step 13:</ins>** I'm going to define the `log_reg_pipe` - pipeline which applies `column_transformer` and fits logistic regression with the the hyperparameter `penalty='none'` (by default sklearn applies L2 regularization). Then I'll calculate the 5-fold cross-validation score (using `accuracy` as a scoring function) and save the result (average accuracy on cross-validation) in the variable `log_reg_score`."
   ]
  },
  {
   "cell_type": "code",
   "execution_count": 38,
   "id": "ab5cbe45",
   "metadata": {},
   "outputs": [
    {
     "data": {
      "text/plain": [
       "0.7977149610952428"
      ]
     },
     "execution_count": 38,
     "metadata": {},
     "output_type": "execute_result"
    }
   ],
   "source": [
    "from sklearn.pipeline import Pipeline\n",
    "from sklearn.linear_model import LogisticRegression\n",
    "from sklearn.model_selection import cross_val_score\n",
    "\n",
    "\n",
    "log_reg_pipe = Pipeline([\n",
    "    ('preprocess', column_transformer),\n",
    "    ('logReg', LogisticRegression(penalty='none', max_iter=1000))\n",
    "])\n",
    "log_reg_score = cross_val_score(log_reg_pipe, X_train, y_train, cv=5, scoring='accuracy').mean()\n",
    "log_reg_score"
   ]
  },
  {
   "cell_type": "markdown",
   "id": "f932986f",
   "metadata": {},
   "source": [
    "## 2.2 Fit Support Vector Machine\n",
    "\n",
    "**<ins>Step 14:</ins>** I'm going to define the `svm_pipe` - pipeline which applies `column_transformer` and fits Support Vector Machine model using the hyperparameter `kernel='linear'`. Then I'll calculate the 5-fold cross-validation score (using `accuracy` as a scoring function) and save the result (average accuracy on cross-validation) in the variable `svm_score`."
   ]
  },
  {
   "cell_type": "code",
   "execution_count": 39,
   "id": "dfc1af16",
   "metadata": {},
   "outputs": [
    {
     "data": {
      "text/plain": [
       "0.8047572146163695"
      ]
     },
     "execution_count": 39,
     "metadata": {},
     "output_type": "execute_result"
    }
   ],
   "source": [
    "from sklearn.svm import SVC\n",
    "\n",
    "\n",
    "svm_pipe = Pipeline([\n",
    "    ('preprocess', column_transformer),\n",
    "    ('svm', SVC(kernel='linear'))\n",
    "])\n",
    "svm_score = cross_val_score(svm_pipe, X_train, y_train, cv=5, scoring='accuracy').mean()\n",
    "svm_score"
   ]
  },
  {
   "cell_type": "markdown",
   "id": "19f40e4a",
   "metadata": {},
   "source": [
    "## 2.3 Compare different models\n",
    "\n",
    "**<ins>Step 15:</ins>** In this task I'm going to use grid search to find the best classifier for the given dataset. `GridSearchCV` class from sklearn and the case of 5-Fold cross validation with accuracy as a scoring metric will be used.\n",
    "\n",
    "*Hints*. Read documentation to see, which hyperparameters `LogisticRegression` and `SVC` have. Pay attention to `kernel` in the SVM model and the regularization coefficient `C` for both LogisticRegression and SVC, try different penalties for `LogisticRegression`. Explore other hyperparameters as well. The minimum passing value for the step will be 0.84 (average score on cross-validaition)."
   ]
  },
  {
   "cell_type": "code",
   "execution_count": 40,
   "id": "4ae5ed24",
   "metadata": {},
   "outputs": [
    {
     "data": {
      "text/plain": [
       "GridSearchCV(cv=5,\n",
       "             estimator=Pipeline(steps=[('preprocess',\n",
       "                                        ColumnTransformer(remainder='passthrough',\n",
       "                                                          transformers=[('age',\n",
       "                                                                         Pipeline(steps=[('meangroupimputer',\n",
       "                                                                                          MeanGroupImputer(group_col='Title')),\n",
       "                                                                                         ('standardscaler',\n",
       "                                                                                          StandardScaler())]),\n",
       "                                                                         ['Age',\n",
       "                                                                          'Title']),\n",
       "                                                                        ('fare',\n",
       "                                                                         Pipeline(steps=[('standardscaler',\n",
       "                                                                                          StandardScaler())]),\n",
       "                                                                         ['Fare']),\n",
       "                                                                        ('all_categ',\n",
       "                                                                         Pipeline(steps=[('simpleimputer',\n",
       "                                                                                          SimpleImputer(strategy='most_frequent')),\n",
       "                                                                                         ('onehotencoder',\n",
       "                                                                                          OneHotEncoder())]),\n",
       "                                                                         ['Sex',\n",
       "                                                                          'Embarked',\n",
       "                                                                          'Title'])])),\n",
       "                                       ('logReg',\n",
       "                                        LogisticRegression(max_iter=1000))]),\n",
       "             param_grid={'logReg__C': array([0.1, 0.2, 0.3, 0.4, 0.5, 0.6, 0.7, 0.8, 0.9, 1. ]),\n",
       "                         'logReg__solver': ['newton-cg', 'lbfgs', 'liblinear',\n",
       "                                            'sag', 'saga']},\n",
       "             scoring='accuracy')"
      ]
     },
     "execution_count": 40,
     "metadata": {},
     "output_type": "execute_result"
    }
   ],
   "source": [
    "from sklearn.model_selection import GridSearchCV\n",
    "\n",
    "log_reg_pipe = Pipeline([\n",
    "    ('preprocess', column_transformer),\n",
    "    ('logReg', LogisticRegression(max_iter=1000))\n",
    "])\n",
    "\n",
    "param_grid = {\n",
    "#     'logReg__penalty': ['l1', 'l2', 'elasticnet', 'none'],\n",
    "    'logReg__solver': ['newton-cg', 'lbfgs', 'liblinear', 'sag', 'saga'],\n",
    "    'logReg__C': np.linspace(0.1, 1, 10)\n",
    "}\n",
    "pipe_logGrid = GridSearchCV(log_reg_pipe, param_grid, cv=5, scoring='accuracy')\n",
    "pipe_logGrid.fit(X_train, y_train)"
   ]
  },
  {
   "cell_type": "code",
   "execution_count": 41,
   "id": "7aed8f79",
   "metadata": {},
   "outputs": [
    {
     "data": {
      "text/plain": [
       "0.8046981187826259"
      ]
     },
     "execution_count": 41,
     "metadata": {},
     "output_type": "execute_result"
    }
   ],
   "source": [
    "pipe_logGrid.best_score_"
   ]
  },
  {
   "cell_type": "code",
   "execution_count": 42,
   "id": "fd44a8d3",
   "metadata": {},
   "outputs": [
    {
     "data": {
      "text/plain": [
       "LogisticRegression(C=0.2, max_iter=1000, solver='newton-cg')"
      ]
     },
     "execution_count": 42,
     "metadata": {},
     "output_type": "execute_result"
    }
   ],
   "source": [
    "pipe_logGrid.best_estimator_.steps[1][1]"
   ]
  },
  {
   "cell_type": "code",
   "execution_count": 43,
   "id": "20a44f3b",
   "metadata": {},
   "outputs": [
    {
     "data": {
      "text/plain": [
       "GridSearchCV(cv=5,\n",
       "             estimator=Pipeline(steps=[('preprocess',\n",
       "                                        ColumnTransformer(remainder='passthrough',\n",
       "                                                          transformers=[('age',\n",
       "                                                                         Pipeline(steps=[('meangroupimputer',\n",
       "                                                                                          MeanGroupImputer(group_col='Title')),\n",
       "                                                                                         ('standardscaler',\n",
       "                                                                                          StandardScaler())]),\n",
       "                                                                         ['Age',\n",
       "                                                                          'Title']),\n",
       "                                                                        ('fare',\n",
       "                                                                         Pipeline(steps=[('standardscaler',\n",
       "                                                                                          StandardScaler())]),\n",
       "                                                                         ['Fare']),\n",
       "                                                                        ('all_categ',\n",
       "                                                                         Pipeline(steps=[...\n",
       "                                                                                          OneHotEncoder())]),\n",
       "                                                                         ['Sex',\n",
       "                                                                          'Embarked',\n",
       "                                                                          'Title'])])),\n",
       "                                       ('svm', SVC())]),\n",
       "             param_grid={'svm__C': array([0.1, 0.2, 0.3, 0.4, 0.5, 0.6, 0.7, 0.8, 0.9, 1. , 1.1, 1.2, 1.3,\n",
       "       1.4, 1.5, 1.6, 1.7, 1.8, 1.9, 2. , 2.1, 2.2, 2.3, 2.4, 2.5, 2.6,\n",
       "       2.7, 2.8, 2.9, 3. , 3.1, 3.2, 3.3, 3.4, 3.5, 3.6, 3.7, 3.8, 3.9,\n",
       "       4. , 4.1, 4.2, 4.3, 4.4, 4.5, 4.6, 4.7, 4.8, 4.9, 5. ]),\n",
       "                         'svm__kernel': ['linear', 'poly', 'rbf', 'sigmoid']},\n",
       "             scoring='accuracy')"
      ]
     },
     "execution_count": 43,
     "metadata": {},
     "output_type": "execute_result"
    }
   ],
   "source": [
    "svm_pipe = Pipeline([\n",
    "    ('preprocess', column_transformer),\n",
    "    ('svm', SVC())\n",
    "])\n",
    "\n",
    "param_grid = {\n",
    "    'svm__kernel': ['linear', 'poly', 'rbf', 'sigmoid'],\n",
    "    'svm__C': np.linspace(0.1, 5, 50)\n",
    "}\n",
    "\n",
    "pipe_svmGrid = GridSearchCV(svm_pipe, param_grid, cv=5, scoring='accuracy')\n",
    "pipe_svmGrid.fit(X_train, y_train)"
   ]
  },
  {
   "cell_type": "code",
   "execution_count": 44,
   "id": "9ef71f52",
   "metadata": {},
   "outputs": [
    {
     "data": {
      "text/plain": [
       "0.8356544863587116"
      ]
     },
     "execution_count": 44,
     "metadata": {},
     "output_type": "execute_result"
    }
   ],
   "source": [
    "pipe_svmGrid.best_score_"
   ]
  },
  {
   "cell_type": "code",
   "execution_count": 45,
   "id": "04843920",
   "metadata": {},
   "outputs": [
    {
     "data": {
      "text/plain": [
       "SVC(C=1.3000000000000003)"
      ]
     },
     "execution_count": 45,
     "metadata": {},
     "output_type": "execute_result"
    }
   ],
   "source": [
    "pipe_svmGrid.best_estimator_.steps[1][1]"
   ]
  },
  {
   "cell_type": "markdown",
   "id": "c27ff3c4",
   "metadata": {},
   "source": [
    "## 2.4 Eval best model on test\n",
    "\n",
    "Now, we can use the best estimator to evaluate model on the test dataset. \n",
    "\n",
    "1. Fit model on the whole test data\n",
    "2. Make predictions on the test set\n",
    "3. Calculate accuracy"
   ]
  },
  {
   "cell_type": "code",
   "execution_count": 46,
   "id": "c413a690",
   "metadata": {},
   "outputs": [
    {
     "data": {
      "text/plain": [
       "0.8156424581005587"
      ]
     },
     "execution_count": 46,
     "metadata": {},
     "output_type": "execute_result"
    }
   ],
   "source": [
    "from sklearn.metrics import accuracy_score\n",
    "\n",
    "pipe_svmGrid.best_estimator_.fit(X_train, y_train)\n",
    "y_pred = pipe_svmGrid.best_estimator_.predict(X_test)\n",
    "accuracy_score(y_test, y_pred)"
   ]
  }
 ],
 "metadata": {
  "kernelspec": {
   "display_name": "Python 3",
   "language": "python",
   "name": "python3"
  },
  "language_info": {
   "codemirror_mode": {
    "name": "ipython",
    "version": 3
   },
   "file_extension": ".py",
   "mimetype": "text/x-python",
   "name": "python",
   "nbconvert_exporter": "python",
   "pygments_lexer": "ipython3",
   "version": "3.8.8"
  }
 },
 "nbformat": 4,
 "nbformat_minor": 5
}
